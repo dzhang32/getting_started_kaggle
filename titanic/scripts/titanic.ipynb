{
 "cells": [
  {
   "cell_type": "markdown",
   "metadata": {},
   "source": [
    "# Who survives in the titanic?\n",
    "\n",
    "> Aim of this notebook is to practice coding in python and ML classification techniques\n",
    "\n",
    "From a top level, this will follow the workflow: \n",
    "\n",
    "    1. Data exploration\n",
    "    2. Feature engineering\n",
    "    3. Train ML model \n",
    "    4. Predict using ML model \n",
    "    5. Evaluate predictions"
   ]
  },
  {
   "cell_type": "code",
   "execution_count": 1,
   "metadata": {},
   "outputs": [],
   "source": [
    "import pandas as pd\n",
    "import numpy as np\n",
    "\n",
    "# Regular expressions\n",
    "import re\n",
    "\n",
    "# Plotting\n",
    "import seaborn as sns\n",
    "import matplotlib.pyplot as plt\n",
    "plt.style.use(\"ggplot\")\n",
    "\n",
    "# Preprocessing\n",
    "from sklearn.preprocessing import LabelEncoder\n",
    "\n",
    "# ML model training\n",
    "from sklearn.ensemble import RandomForestClassifier\n",
    "from sklearn.model_selection import train_test_split\n",
    "from sklearn.model_selection import RandomizedSearchCV\n",
    "from sklearn.model_selection import GridSearchCV\n",
    "\n",
    "# Evaluation\n",
    "from sklearn import metrics "
   ]
  },
  {
   "cell_type": "markdown",
   "metadata": {},
   "source": [
    "## Data exploration"
   ]
  },
  {
   "cell_type": "code",
   "execution_count": 2,
   "metadata": {},
   "outputs": [],
   "source": [
    "# load in the data and overview of the data structure\n",
    "train = pd.read_csv(\"/Users/DZ_laptop/Dropbox/DZ_Work/kaggle/getting_started_kaggle/titanic/raw_data/train.csv\")\n",
    "test = pd.read_csv(\"/Users/DZ_laptop/Dropbox/DZ_Work/kaggle/getting_started_kaggle/titanic/raw_data/test.csv\")"
   ]
  },
  {
   "cell_type": "code",
   "execution_count": 3,
   "metadata": {},
   "outputs": [
    {
     "name": "stdout",
     "output_type": "stream",
     "text": [
      "(891, 12)\n"
     ]
    },
    {
     "data": {
      "text/html": [
       "<div>\n",
       "<style scoped>\n",
       "    .dataframe tbody tr th:only-of-type {\n",
       "        vertical-align: middle;\n",
       "    }\n",
       "\n",
       "    .dataframe tbody tr th {\n",
       "        vertical-align: top;\n",
       "    }\n",
       "\n",
       "    .dataframe thead th {\n",
       "        text-align: right;\n",
       "    }\n",
       "</style>\n",
       "<table border=\"1\" class=\"dataframe\">\n",
       "  <thead>\n",
       "    <tr style=\"text-align: right;\">\n",
       "      <th></th>\n",
       "      <th>PassengerId</th>\n",
       "      <th>Survived</th>\n",
       "      <th>Pclass</th>\n",
       "      <th>Name</th>\n",
       "      <th>Sex</th>\n",
       "      <th>Age</th>\n",
       "      <th>SibSp</th>\n",
       "      <th>Parch</th>\n",
       "      <th>Ticket</th>\n",
       "      <th>Fare</th>\n",
       "      <th>Cabin</th>\n",
       "      <th>Embarked</th>\n",
       "    </tr>\n",
       "  </thead>\n",
       "  <tbody>\n",
       "    <tr>\n",
       "      <th>0</th>\n",
       "      <td>1</td>\n",
       "      <td>0</td>\n",
       "      <td>3</td>\n",
       "      <td>Braund, Mr. Owen Harris</td>\n",
       "      <td>male</td>\n",
       "      <td>22.0</td>\n",
       "      <td>1</td>\n",
       "      <td>0</td>\n",
       "      <td>A/5 21171</td>\n",
       "      <td>7.2500</td>\n",
       "      <td>NaN</td>\n",
       "      <td>S</td>\n",
       "    </tr>\n",
       "    <tr>\n",
       "      <th>1</th>\n",
       "      <td>2</td>\n",
       "      <td>1</td>\n",
       "      <td>1</td>\n",
       "      <td>Cumings, Mrs. John Bradley (Florence Briggs Th...</td>\n",
       "      <td>female</td>\n",
       "      <td>38.0</td>\n",
       "      <td>1</td>\n",
       "      <td>0</td>\n",
       "      <td>PC 17599</td>\n",
       "      <td>71.2833</td>\n",
       "      <td>C85</td>\n",
       "      <td>C</td>\n",
       "    </tr>\n",
       "    <tr>\n",
       "      <th>2</th>\n",
       "      <td>3</td>\n",
       "      <td>1</td>\n",
       "      <td>3</td>\n",
       "      <td>Heikkinen, Miss. Laina</td>\n",
       "      <td>female</td>\n",
       "      <td>26.0</td>\n",
       "      <td>0</td>\n",
       "      <td>0</td>\n",
       "      <td>STON/O2. 3101282</td>\n",
       "      <td>7.9250</td>\n",
       "      <td>NaN</td>\n",
       "      <td>S</td>\n",
       "    </tr>\n",
       "    <tr>\n",
       "      <th>3</th>\n",
       "      <td>4</td>\n",
       "      <td>1</td>\n",
       "      <td>1</td>\n",
       "      <td>Futrelle, Mrs. Jacques Heath (Lily May Peel)</td>\n",
       "      <td>female</td>\n",
       "      <td>35.0</td>\n",
       "      <td>1</td>\n",
       "      <td>0</td>\n",
       "      <td>113803</td>\n",
       "      <td>53.1000</td>\n",
       "      <td>C123</td>\n",
       "      <td>S</td>\n",
       "    </tr>\n",
       "    <tr>\n",
       "      <th>4</th>\n",
       "      <td>5</td>\n",
       "      <td>0</td>\n",
       "      <td>3</td>\n",
       "      <td>Allen, Mr. William Henry</td>\n",
       "      <td>male</td>\n",
       "      <td>35.0</td>\n",
       "      <td>0</td>\n",
       "      <td>0</td>\n",
       "      <td>373450</td>\n",
       "      <td>8.0500</td>\n",
       "      <td>NaN</td>\n",
       "      <td>S</td>\n",
       "    </tr>\n",
       "  </tbody>\n",
       "</table>\n",
       "</div>"
      ],
      "text/plain": [
       "   PassengerId  Survived  Pclass  \\\n",
       "0            1         0       3   \n",
       "1            2         1       1   \n",
       "2            3         1       3   \n",
       "3            4         1       1   \n",
       "4            5         0       3   \n",
       "\n",
       "                                                Name     Sex   Age  SibSp  \\\n",
       "0                            Braund, Mr. Owen Harris    male  22.0      1   \n",
       "1  Cumings, Mrs. John Bradley (Florence Briggs Th...  female  38.0      1   \n",
       "2                             Heikkinen, Miss. Laina  female  26.0      0   \n",
       "3       Futrelle, Mrs. Jacques Heath (Lily May Peel)  female  35.0      1   \n",
       "4                           Allen, Mr. William Henry    male  35.0      0   \n",
       "\n",
       "   Parch            Ticket     Fare Cabin Embarked  \n",
       "0      0         A/5 21171   7.2500   NaN        S  \n",
       "1      0          PC 17599  71.2833   C85        C  \n",
       "2      0  STON/O2. 3101282   7.9250   NaN        S  \n",
       "3      0            113803  53.1000  C123        S  \n",
       "4      0            373450   8.0500   NaN        S  "
      ]
     },
     "execution_count": 3,
     "metadata": {},
     "output_type": "execute_result"
    }
   ],
   "source": [
    "print(train.shape) # what are the dimensions/number of training examples?\n",
    "train.head() # what features do we have?"
   ]
  },
  {
   "cell_type": "code",
   "execution_count": 4,
   "metadata": {},
   "outputs": [
    {
     "name": "stdout",
     "output_type": "stream",
     "text": [
      "(418, 11)\n"
     ]
    },
    {
     "data": {
      "text/html": [
       "<div>\n",
       "<style scoped>\n",
       "    .dataframe tbody tr th:only-of-type {\n",
       "        vertical-align: middle;\n",
       "    }\n",
       "\n",
       "    .dataframe tbody tr th {\n",
       "        vertical-align: top;\n",
       "    }\n",
       "\n",
       "    .dataframe thead th {\n",
       "        text-align: right;\n",
       "    }\n",
       "</style>\n",
       "<table border=\"1\" class=\"dataframe\">\n",
       "  <thead>\n",
       "    <tr style=\"text-align: right;\">\n",
       "      <th></th>\n",
       "      <th>PassengerId</th>\n",
       "      <th>Pclass</th>\n",
       "      <th>Name</th>\n",
       "      <th>Sex</th>\n",
       "      <th>Age</th>\n",
       "      <th>SibSp</th>\n",
       "      <th>Parch</th>\n",
       "      <th>Ticket</th>\n",
       "      <th>Fare</th>\n",
       "      <th>Cabin</th>\n",
       "      <th>Embarked</th>\n",
       "    </tr>\n",
       "  </thead>\n",
       "  <tbody>\n",
       "    <tr>\n",
       "      <th>0</th>\n",
       "      <td>892</td>\n",
       "      <td>3</td>\n",
       "      <td>Kelly, Mr. James</td>\n",
       "      <td>male</td>\n",
       "      <td>34.5</td>\n",
       "      <td>0</td>\n",
       "      <td>0</td>\n",
       "      <td>330911</td>\n",
       "      <td>7.8292</td>\n",
       "      <td>NaN</td>\n",
       "      <td>Q</td>\n",
       "    </tr>\n",
       "    <tr>\n",
       "      <th>1</th>\n",
       "      <td>893</td>\n",
       "      <td>3</td>\n",
       "      <td>Wilkes, Mrs. James (Ellen Needs)</td>\n",
       "      <td>female</td>\n",
       "      <td>47.0</td>\n",
       "      <td>1</td>\n",
       "      <td>0</td>\n",
       "      <td>363272</td>\n",
       "      <td>7.0000</td>\n",
       "      <td>NaN</td>\n",
       "      <td>S</td>\n",
       "    </tr>\n",
       "    <tr>\n",
       "      <th>2</th>\n",
       "      <td>894</td>\n",
       "      <td>2</td>\n",
       "      <td>Myles, Mr. Thomas Francis</td>\n",
       "      <td>male</td>\n",
       "      <td>62.0</td>\n",
       "      <td>0</td>\n",
       "      <td>0</td>\n",
       "      <td>240276</td>\n",
       "      <td>9.6875</td>\n",
       "      <td>NaN</td>\n",
       "      <td>Q</td>\n",
       "    </tr>\n",
       "    <tr>\n",
       "      <th>3</th>\n",
       "      <td>895</td>\n",
       "      <td>3</td>\n",
       "      <td>Wirz, Mr. Albert</td>\n",
       "      <td>male</td>\n",
       "      <td>27.0</td>\n",
       "      <td>0</td>\n",
       "      <td>0</td>\n",
       "      <td>315154</td>\n",
       "      <td>8.6625</td>\n",
       "      <td>NaN</td>\n",
       "      <td>S</td>\n",
       "    </tr>\n",
       "    <tr>\n",
       "      <th>4</th>\n",
       "      <td>896</td>\n",
       "      <td>3</td>\n",
       "      <td>Hirvonen, Mrs. Alexander (Helga E Lindqvist)</td>\n",
       "      <td>female</td>\n",
       "      <td>22.0</td>\n",
       "      <td>1</td>\n",
       "      <td>1</td>\n",
       "      <td>3101298</td>\n",
       "      <td>12.2875</td>\n",
       "      <td>NaN</td>\n",
       "      <td>S</td>\n",
       "    </tr>\n",
       "  </tbody>\n",
       "</table>\n",
       "</div>"
      ],
      "text/plain": [
       "   PassengerId  Pclass                                          Name     Sex  \\\n",
       "0          892       3                              Kelly, Mr. James    male   \n",
       "1          893       3              Wilkes, Mrs. James (Ellen Needs)  female   \n",
       "2          894       2                     Myles, Mr. Thomas Francis    male   \n",
       "3          895       3                              Wirz, Mr. Albert    male   \n",
       "4          896       3  Hirvonen, Mrs. Alexander (Helga E Lindqvist)  female   \n",
       "\n",
       "    Age  SibSp  Parch   Ticket     Fare Cabin Embarked  \n",
       "0  34.5      0      0   330911   7.8292   NaN        Q  \n",
       "1  47.0      1      0   363272   7.0000   NaN        S  \n",
       "2  62.0      0      0   240276   9.6875   NaN        Q  \n",
       "3  27.0      0      0   315154   8.6625   NaN        S  \n",
       "4  22.0      1      1  3101298  12.2875   NaN        S  "
      ]
     },
     "execution_count": 4,
     "metadata": {},
     "output_type": "execute_result"
    }
   ],
   "source": [
    "print(test.shape)\n",
    "test.head()"
   ]
  },
  {
   "cell_type": "code",
   "execution_count": 5,
   "metadata": {},
   "outputs": [],
   "source": [
    "# combine train and test together to use all the most data possible for feature exploration/engineering\n",
    "data = pd.concat([train, test], sort = True).reset_index(drop = True)"
   ]
  },
  {
   "cell_type": "markdown",
   "metadata": {},
   "source": [
    "### Which columns have missing variables?"
   ]
  },
  {
   "cell_type": "code",
   "execution_count": 6,
   "metadata": {},
   "outputs": [
    {
     "name": "stdout",
     "output_type": "stream",
     "text": [
      "Age has 263 missing values\n",
      "Cabin has 1014 missing values\n",
      "Embarked has 2 missing values\n",
      "Fare has 1 missing values\n",
      "Name has 0 missing values\n",
      "Parch has 0 missing values\n",
      "PassengerId has 0 missing values\n",
      "Pclass has 0 missing values\n",
      "Sex has 0 missing values\n",
      "SibSp has 0 missing values\n",
      "Survived has 418 missing values\n",
      "Ticket has 0 missing values\n"
     ]
    }
   ],
   "source": [
    "for col in data.columns:\n",
    "    \n",
    "    print(\"{} has {} missing values\".format(col, str(data[col].isna().sum())))"
   ]
  },
  {
   "cell_type": "markdown",
   "metadata": {},
   "source": [
    "### Correlation between numeric features"
   ]
  },
  {
   "cell_type": "code",
   "execution_count": 7,
   "metadata": {},
   "outputs": [
    {
     "data": {
      "text/plain": [
       "<matplotlib.axes._subplots.AxesSubplot at 0x107011710>"
      ]
     },
     "execution_count": 7,
     "metadata": {},
     "output_type": "execute_result"
    },
    {
     "data": {
      "image/png": "[encoded data removed]",
      "text/plain": [
       "<Figure size 720x576 with 2 Axes>"
      ]
     },
     "metadata": {
      "needs_background": "light"
     },
     "output_type": "display_data"
    }
   ],
   "source": [
    "plt.figure(figsize=(10, 8))\n",
    "sns.heatmap(data.corr(\"pearson\"), \n",
    "            cmap = \"RdBu\", \n",
    "            annot = True)"
   ]
  },
  {
   "cell_type": "markdown",
   "metadata": {},
   "source": [
    "- Fare and Pclass stand out as correlated with the output variable survival. Intuitively, richer passengers are likely to have a greater likelihood of survival. "
   ]
  },
  {
   "cell_type": "markdown",
   "metadata": {},
   "source": [
    "## Feature engineering\n",
    "\n",
    "### Sex"
   ]
  },
  {
   "cell_type": "code",
   "execution_count": 8,
   "metadata": {},
   "outputs": [
    {
     "name": "stdout",
     "output_type": "stream",
     "text": [
      "count     1309\n",
      "unique       2\n",
      "top       male\n",
      "freq       843\n",
      "Name: Sex, dtype: object\n",
      "Sex\n",
      "female    466\n",
      "male      843\n",
      "Name: PassengerId, dtype: int64\n",
      "Sex     Survived\n",
      "female  0.0          81\n",
      "        1.0         233\n",
      "male    0.0         468\n",
      "        1.0         109\n",
      "Name: PassengerId, dtype: int64\n"
     ]
    },
    {
     "data": {
      "image/png": "[encoded data removed]",
      "text/plain": [
       "<Figure size 720x432 with 1 Axes>"
      ]
     },
     "metadata": {
      "needs_background": "light"
     },
     "output_type": "display_data"
    }
   ],
   "source": [
    "print(data[\"Sex\"].describe())\n",
    "print(data.groupby(\"Sex\").PassengerId.count())\n",
    "print(data.groupby([\"Sex\", \"Survived\"]).PassengerId.count()) # a much higher proportion of F survived\n",
    "\n",
    "plt.figure(figsize=(10, 6))\n",
    "sns.countplot(x = \"Sex\", hue = \"Survived\", data = data) # Looks like an important feature \n",
    "data[\"Sex\"] = LabelEncoder().fit_transform(data[\"Sex\"]) # convert Sex to numeric 1/0s"
   ]
  },
  {
   "cell_type": "markdown",
   "metadata": {},
   "source": [
    "- Based on the count plot, it looks as though females have a higher likelihood of survival. Perhaps they were preferentially offered to leave the ship first"
   ]
  },
  {
   "cell_type": "markdown",
   "metadata": {},
   "source": [
    "### Name\n",
    "\n",
    "- Each name is labelled with a title. This may inform both the gender of the person, as well as the age and the status/wealth, all factors that may affect survival"
   ]
  },
  {
   "cell_type": "code",
   "execution_count": 9,
   "metadata": {},
   "outputs": [
    {
     "data": {
      "text/plain": [
       "Title\n",
       "Master     61\n",
       "Miss      262\n",
       "Mr        757\n",
       "Mrs       197\n",
       "other      32\n",
       "Name: Name, dtype: int64"
      ]
     },
     "execution_count": 9,
     "metadata": {},
     "output_type": "execute_result"
    }
   ],
   "source": [
    "# extract title from names\n",
    "data[\"Title\"] = data[\"Name\"].apply(lambda name: re.sub(\".*, \", \"\", name)).apply(lambda name: re.sub(\"\\\\..*\", \"\", name))\n",
    "data[\"Title\"] = data[\"Title\"].apply(lambda title: \"Miss\" if title == \"Ms\" else title) # convert 2 Ms to Miss\n",
    "data[\"Title\"] = data[\"Title\"].apply(lambda title: \"other\" if title not in [\"Master\", \"Miss\", \"Mr\", \"Mrs\", \"Ms\"] else title) # group \"other\" \n",
    "\n",
    "data.groupby(\"Title\").Name.count()"
   ]
  },
  {
   "cell_type": "code",
   "execution_count": 10,
   "metadata": {},
   "outputs": [
    {
     "data": {
      "text/plain": [
       "<matplotlib.axes._subplots.AxesSubplot at 0x1a1a631a90>"
      ]
     },
     "execution_count": 10,
     "metadata": {},
     "output_type": "execute_result"
    },
    {
     "data": {
      "image/png": "[encoded data removed]",
      "text/plain": [
       "<Figure size 720x432 with 1 Axes>"
      ]
     },
     "metadata": {
      "needs_background": "light"
     },
     "output_type": "display_data"
    }
   ],
   "source": [
    "plt.figure(figsize=(10, 6))\n",
    "sns.countplot(x = \"Title\", hue = \"Survived\", data = data) # again looks informative for survival, with females disproportionately saved"
   ]
  },
  {
   "cell_type": "code",
   "execution_count": 11,
   "metadata": {},
   "outputs": [],
   "source": [
    "# Encode the title data to integer - perhaps better as dummy? \n",
    "data[\"Title\"] = LabelEncoder().fit_transform(data[\"Title\"])\n",
    "data = data.drop(columns = \"Name\") # remove the name variable"
   ]
  },
  {
   "cell_type": "markdown",
   "metadata": {},
   "source": [
    "### Age"
   ]
  },
  {
   "cell_type": "code",
   "execution_count": 12,
   "metadata": {},
   "outputs": [
    {
     "name": "stdout",
     "output_type": "stream",
     "text": [
      "count    1046.000000\n",
      "mean       29.881138\n",
      "std        14.413493\n",
      "min         0.170000\n",
      "25%        21.000000\n",
      "50%        28.000000\n",
      "75%        39.000000\n",
      "max        80.000000\n",
      "Name: Age, dtype: float64\n"
     ]
    },
    {
     "data": {
      "text/plain": [
       "<matplotlib.axes._subplots.AxesSubplot at 0x1a1a6380b8>"
      ]
     },
     "execution_count": 12,
     "metadata": {},
     "output_type": "execute_result"
    },
    {
     "data": {
      "image/png": "[encoded data removed]",
      "text/plain": [
       "<Figure size 720x432 with 1 Axes>"
      ]
     },
     "metadata": {
      "needs_background": "light"
     },
     "output_type": "display_data"
    }
   ],
   "source": [
    "print(data[\"Age\"].describe()) \n",
    "plt.figure(figsize=(10, 6))\n",
    "sns.distplot(data[\"Age\"][data[\"Age\"].notna()]) # plot the non-NAs "
   ]
  },
  {
   "cell_type": "code",
   "execution_count": 13,
   "metadata": {},
   "outputs": [
    {
     "data": {
      "text/html": [
       "<div>\n",
       "<style scoped>\n",
       "    .dataframe tbody tr th:only-of-type {\n",
       "        vertical-align: middle;\n",
       "    }\n",
       "\n",
       "    .dataframe tbody tr th {\n",
       "        vertical-align: top;\n",
       "    }\n",
       "\n",
       "    .dataframe thead th {\n",
       "        text-align: right;\n",
       "    }\n",
       "</style>\n",
       "<table border=\"1\" class=\"dataframe\">\n",
       "  <thead>\n",
       "    <tr style=\"text-align: right;\">\n",
       "      <th></th>\n",
       "      <th>Age</th>\n",
       "      <th>Fare</th>\n",
       "      <th>Parch</th>\n",
       "      <th>PassengerId</th>\n",
       "      <th>Pclass</th>\n",
       "      <th>Sex</th>\n",
       "      <th>SibSp</th>\n",
       "      <th>Survived</th>\n",
       "      <th>Title</th>\n",
       "    </tr>\n",
       "  </thead>\n",
       "  <tbody>\n",
       "    <tr>\n",
       "      <th>Age</th>\n",
       "      <td>1.000000</td>\n",
       "      <td>0.178740</td>\n",
       "      <td>-0.150917</td>\n",
       "      <td>0.028814</td>\n",
       "      <td>-0.408106</td>\n",
       "      <td>0.063645</td>\n",
       "      <td>-0.243699</td>\n",
       "      <td>-0.077221</td>\n",
       "      <td>0.509109</td>\n",
       "    </tr>\n",
       "    <tr>\n",
       "      <th>Fare</th>\n",
       "      <td>0.178740</td>\n",
       "      <td>1.000000</td>\n",
       "      <td>0.221539</td>\n",
       "      <td>0.031428</td>\n",
       "      <td>-0.558629</td>\n",
       "      <td>-0.185523</td>\n",
       "      <td>0.160238</td>\n",
       "      <td>0.257307</td>\n",
       "      <td>0.029900</td>\n",
       "    </tr>\n",
       "    <tr>\n",
       "      <th>Parch</th>\n",
       "      <td>-0.150917</td>\n",
       "      <td>0.221539</td>\n",
       "      <td>1.000000</td>\n",
       "      <td>0.008942</td>\n",
       "      <td>0.018322</td>\n",
       "      <td>-0.213125</td>\n",
       "      <td>0.373587</td>\n",
       "      <td>0.081629</td>\n",
       "      <td>-0.088875</td>\n",
       "    </tr>\n",
       "    <tr>\n",
       "      <th>PassengerId</th>\n",
       "      <td>0.028814</td>\n",
       "      <td>0.031428</td>\n",
       "      <td>0.008942</td>\n",
       "      <td>1.000000</td>\n",
       "      <td>-0.038354</td>\n",
       "      <td>0.013406</td>\n",
       "      <td>-0.055224</td>\n",
       "      <td>-0.005007</td>\n",
       "      <td>0.039751</td>\n",
       "    </tr>\n",
       "    <tr>\n",
       "      <th>Pclass</th>\n",
       "      <td>-0.408106</td>\n",
       "      <td>-0.558629</td>\n",
       "      <td>0.018322</td>\n",
       "      <td>-0.038354</td>\n",
       "      <td>1.000000</td>\n",
       "      <td>0.124617</td>\n",
       "      <td>0.060832</td>\n",
       "      <td>-0.338481</td>\n",
       "      <td>-0.219885</td>\n",
       "    </tr>\n",
       "    <tr>\n",
       "      <th>Sex</th>\n",
       "      <td>0.063645</td>\n",
       "      <td>-0.185523</td>\n",
       "      <td>-0.213125</td>\n",
       "      <td>0.013406</td>\n",
       "      <td>0.124617</td>\n",
       "      <td>1.000000</td>\n",
       "      <td>-0.109609</td>\n",
       "      <td>-0.543351</td>\n",
       "      <td>0.014544</td>\n",
       "    </tr>\n",
       "    <tr>\n",
       "      <th>SibSp</th>\n",
       "      <td>-0.243699</td>\n",
       "      <td>0.160238</td>\n",
       "      <td>0.373587</td>\n",
       "      <td>-0.055224</td>\n",
       "      <td>0.060832</td>\n",
       "      <td>-0.109609</td>\n",
       "      <td>1.000000</td>\n",
       "      <td>-0.035322</td>\n",
       "      <td>-0.194396</td>\n",
       "    </tr>\n",
       "    <tr>\n",
       "      <th>Survived</th>\n",
       "      <td>-0.077221</td>\n",
       "      <td>0.257307</td>\n",
       "      <td>0.081629</td>\n",
       "      <td>-0.005007</td>\n",
       "      <td>-0.338481</td>\n",
       "      <td>-0.543351</td>\n",
       "      <td>-0.035322</td>\n",
       "      <td>1.000000</td>\n",
       "      <td>-0.058000</td>\n",
       "    </tr>\n",
       "    <tr>\n",
       "      <th>Title</th>\n",
       "      <td>0.509109</td>\n",
       "      <td>0.029900</td>\n",
       "      <td>-0.088875</td>\n",
       "      <td>0.039751</td>\n",
       "      <td>-0.219885</td>\n",
       "      <td>0.014544</td>\n",
       "      <td>-0.194396</td>\n",
       "      <td>-0.058000</td>\n",
       "      <td>1.000000</td>\n",
       "    </tr>\n",
       "  </tbody>\n",
       "</table>\n",
       "</div>"
      ],
      "text/plain": [
       "                  Age      Fare     Parch  PassengerId    Pclass       Sex  \\\n",
       "Age          1.000000  0.178740 -0.150917     0.028814 -0.408106  0.063645   \n",
       "Fare         0.178740  1.000000  0.221539     0.031428 -0.558629 -0.185523   \n",
       "Parch       -0.150917  0.221539  1.000000     0.008942  0.018322 -0.213125   \n",
       "PassengerId  0.028814  0.031428  0.008942     1.000000 -0.038354  0.013406   \n",
       "Pclass      -0.408106 -0.558629  0.018322    -0.038354  1.000000  0.124617   \n",
       "Sex          0.063645 -0.185523 -0.213125     0.013406  0.124617  1.000000   \n",
       "SibSp       -0.243699  0.160238  0.373587    -0.055224  0.060832 -0.109609   \n",
       "Survived    -0.077221  0.257307  0.081629    -0.005007 -0.338481 -0.543351   \n",
       "Title        0.509109  0.029900 -0.088875     0.039751 -0.219885  0.014544   \n",
       "\n",
       "                SibSp  Survived     Title  \n",
       "Age         -0.243699 -0.077221  0.509109  \n",
       "Fare         0.160238  0.257307  0.029900  \n",
       "Parch        0.373587  0.081629 -0.088875  \n",
       "PassengerId -0.055224 -0.005007  0.039751  \n",
       "Pclass       0.060832 -0.338481 -0.219885  \n",
       "Sex         -0.109609 -0.543351  0.014544  \n",
       "SibSp        1.000000 -0.035322 -0.194396  \n",
       "Survived    -0.035322  1.000000 -0.058000  \n",
       "Title       -0.194396 -0.058000  1.000000  "
      ]
     },
     "execution_count": 13,
     "metadata": {},
     "output_type": "execute_result"
    }
   ],
   "source": [
    "data.corr()"
   ]
  },
  {
   "cell_type": "markdown",
   "metadata": {},
   "source": [
    "- Age is most correlated with the Title feature. Let's use the title to fill in the missing ages"
   ]
  },
  {
   "cell_type": "code",
   "execution_count": 14,
   "metadata": {},
   "outputs": [],
   "source": [
    "# fill in column with grouped mean of another column\n",
    "def fill_na_col(data, col_to_fill, group_col):\n",
    "    \n",
    "    grouped_mean = data.groupby(group_col).Age.mean()\n",
    "\n",
    "    col_filled = list()\n",
    "\n",
    "    for i in range(len(data)):\n",
    "    \n",
    "        if np.isnan(data.iloc[i][col_to_fill]):\n",
    "\n",
    "            col_filled.append(grouped_mean[data.iloc[i][group_col]])\n",
    "\n",
    "        else:\n",
    "\n",
    "            col_filled.append(data.iloc[i][col_to_fill])\n",
    "    \n",
    "    data[col_to_fill] = col_filled\n",
    "    \n",
    "    return data\n",
    "    \n",
    "data = fill_na_col(data = data, col_to_fill = \"Age\", group_col = \"Title\")"
   ]
  },
  {
   "cell_type": "markdown",
   "metadata": {},
   "source": [
    "### SibSp & Parch\n",
    "\n",
    "- **SibSp** is the number of siblings also aboard the titanic\n",
    "- **Parch** is the number of Parents/Children"
   ]
  },
  {
   "cell_type": "code",
   "execution_count": 15,
   "metadata": {},
   "outputs": [
    {
     "name": "stdout",
     "output_type": "stream",
     "text": [
      "Parch\n",
      "0    1002\n",
      "1     170\n",
      "2     113\n",
      "3       8\n",
      "4       6\n",
      "5       6\n",
      "6       2\n",
      "9       2\n",
      "Name: Sex, dtype: int64\n",
      "SibSp\n",
      "0    891\n",
      "1    319\n",
      "2     42\n",
      "3     20\n",
      "4     22\n",
      "5      6\n",
      "8      9\n",
      "Name: Sex, dtype: int64\n"
     ]
    }
   ],
   "source": [
    "print(data.groupby(\"Parch\").Sex.count())\n",
    "print(data.groupby(\"SibSp\").Sex.count())"
   ]
  },
  {
   "cell_type": "code",
   "execution_count": 16,
   "metadata": {},
   "outputs": [
    {
     "name": "stdout",
     "output_type": "stream",
     "text": [
      "Parch\n",
      "0     5.000000\n",
      "1     0.420000\n",
      "2     0.170000\n",
      "3    16.000000\n",
      "4    29.000000\n",
      "5    38.000000\n",
      "6    40.000000\n",
      "9    32.252151\n",
      "Name: Age, dtype: float64\n"
     ]
    }
   ],
   "source": [
    "# 1/2 are weighted by the children, since they have either 1/2 parents on board, as you can also see from the lower ages\n",
    "print(data.groupby(\"Parch\").Age.min()) "
   ]
  },
  {
   "cell_type": "code",
   "execution_count": 17,
   "metadata": {},
   "outputs": [
    {
     "data": {
      "text/html": [
       "<div>\n",
       "<style scoped>\n",
       "    .dataframe tbody tr th:only-of-type {\n",
       "        vertical-align: middle;\n",
       "    }\n",
       "\n",
       "    .dataframe tbody tr th {\n",
       "        vertical-align: top;\n",
       "    }\n",
       "\n",
       "    .dataframe thead th {\n",
       "        text-align: right;\n",
       "    }\n",
       "</style>\n",
       "<table border=\"1\" class=\"dataframe\">\n",
       "  <thead>\n",
       "    <tr style=\"text-align: right;\">\n",
       "      <th></th>\n",
       "      <th>child</th>\n",
       "      <th>parent</th>\n",
       "      <th>single</th>\n",
       "      <th>Survived</th>\n",
       "    </tr>\n",
       "  </thead>\n",
       "  <tbody>\n",
       "    <tr>\n",
       "      <th>child</th>\n",
       "      <td>1.000000</td>\n",
       "      <td>-0.118887</td>\n",
       "      <td>-0.343796</td>\n",
       "      <td>0.136884</td>\n",
       "    </tr>\n",
       "    <tr>\n",
       "      <th>parent</th>\n",
       "      <td>-0.118887</td>\n",
       "      <td>1.000000</td>\n",
       "      <td>-0.455463</td>\n",
       "      <td>0.094018</td>\n",
       "    </tr>\n",
       "    <tr>\n",
       "      <th>single</th>\n",
       "      <td>-0.343796</td>\n",
       "      <td>-0.455463</td>\n",
       "      <td>1.000000</td>\n",
       "      <td>-0.203367</td>\n",
       "    </tr>\n",
       "    <tr>\n",
       "      <th>Survived</th>\n",
       "      <td>0.136884</td>\n",
       "      <td>0.094018</td>\n",
       "      <td>-0.203367</td>\n",
       "      <td>1.000000</td>\n",
       "    </tr>\n",
       "  </tbody>\n",
       "</table>\n",
       "</div>"
      ],
      "text/plain": [
       "             child    parent    single  Survived\n",
       "child     1.000000 -0.118887 -0.343796  0.136884\n",
       "parent   -0.118887  1.000000 -0.455463  0.094018\n",
       "single   -0.343796 -0.455463  1.000000 -0.203367\n",
       "Survived  0.136884  0.094018 -0.203367  1.000000"
      ]
     },
     "execution_count": 17,
     "metadata": {},
     "output_type": "execute_result"
    }
   ],
   "source": [
    "# Using both the Age and the Parch, let's reclassify these as child vs parents\n",
    "data[\"child\"] = data.apply(lambda row: 1 if (row.Age <= 15) and (row.Parch < 3) else 0, axis = 1)\n",
    "data[\"parent\"] = data.apply(lambda row: 1 if (row.Age >= 22) and (row.Parch > 0) else 0, axis = 1)\n",
    "data[\"single\"] = data.apply(lambda row: 1 if (row.SibSp + row.Parch) == 0 else 0, axis = 1)\n",
    "\n",
    "data[[\"child\", \"parent\", \"single\", \"Survived\"]].corr()"
   ]
  },
  {
   "cell_type": "markdown",
   "metadata": {},
   "source": [
    "### Pclass"
   ]
  },
  {
   "cell_type": "code",
   "execution_count": 18,
   "metadata": {},
   "outputs": [
    {
     "data": {
      "text/plain": [
       "<matplotlib.axes._subplots.AxesSubplot at 0x1a1a62c9e8>"
      ]
     },
     "execution_count": 18,
     "metadata": {},
     "output_type": "execute_result"
    },
    {
     "data": {
      "image/png": "[encoded data removed]",
      "text/plain": [
       "<Figure size 720x432 with 1 Axes>"
      ]
     },
     "metadata": {
      "needs_background": "light"
     },
     "output_type": "display_data"
    }
   ],
   "source": [
    "plt.figure(figsize=(10, 6))\n",
    "sns.countplot(data[\"Pclass\"])"
   ]
  },
  {
   "cell_type": "markdown",
   "metadata": {},
   "source": [
    "### Fare"
   ]
  },
  {
   "cell_type": "code",
   "execution_count": 19,
   "metadata": {},
   "outputs": [
    {
     "data": {
      "text/plain": [
       "<matplotlib.axes._subplots.AxesSubplot at 0x1a1a897d30>"
      ]
     },
     "execution_count": 19,
     "metadata": {},
     "output_type": "execute_result"
    },
    {
     "data": {
      "image/png": "[encoded data removed]",
      "text/plain": [
       "<Figure size 576x432 with 1 Axes>"
      ]
     },
     "metadata": {
      "needs_background": "light"
     },
     "output_type": "display_data"
    }
   ],
   "source": [
    "plt.figure(figsize=(8, 6))\n",
    "sns.boxplot(data[\"Survived\"], data[\"Fare\"])"
   ]
  },
  {
   "cell_type": "code",
   "execution_count": 20,
   "metadata": {},
   "outputs": [
    {
     "data": {
      "text/html": [
       "<div>\n",
       "<style scoped>\n",
       "    .dataframe tbody tr th:only-of-type {\n",
       "        vertical-align: middle;\n",
       "    }\n",
       "\n",
       "    .dataframe tbody tr th {\n",
       "        vertical-align: top;\n",
       "    }\n",
       "\n",
       "    .dataframe thead th {\n",
       "        text-align: right;\n",
       "    }\n",
       "</style>\n",
       "<table border=\"1\" class=\"dataframe\">\n",
       "  <thead>\n",
       "    <tr style=\"text-align: right;\">\n",
       "      <th></th>\n",
       "      <th>Age</th>\n",
       "      <th>Cabin</th>\n",
       "      <th>Embarked</th>\n",
       "      <th>Fare</th>\n",
       "      <th>Parch</th>\n",
       "      <th>PassengerId</th>\n",
       "      <th>Pclass</th>\n",
       "      <th>Sex</th>\n",
       "      <th>SibSp</th>\n",
       "      <th>Survived</th>\n",
       "      <th>Ticket</th>\n",
       "      <th>Title</th>\n",
       "      <th>child</th>\n",
       "      <th>parent</th>\n",
       "      <th>single</th>\n",
       "    </tr>\n",
       "  </thead>\n",
       "  <tbody>\n",
       "    <tr>\n",
       "      <th>1043</th>\n",
       "      <td>60.5</td>\n",
       "      <td>NaN</td>\n",
       "      <td>S</td>\n",
       "      <td>NaN</td>\n",
       "      <td>0</td>\n",
       "      <td>1044</td>\n",
       "      <td>3</td>\n",
       "      <td>1</td>\n",
       "      <td>0</td>\n",
       "      <td>NaN</td>\n",
       "      <td>3701</td>\n",
       "      <td>2</td>\n",
       "      <td>0</td>\n",
       "      <td>0</td>\n",
       "      <td>1</td>\n",
       "    </tr>\n",
       "  </tbody>\n",
       "</table>\n",
       "</div>"
      ],
      "text/plain": [
       "       Age Cabin Embarked  Fare  Parch  PassengerId  Pclass  Sex  SibSp  \\\n",
       "1043  60.5   NaN        S   NaN      0         1044       3    1      0   \n",
       "\n",
       "      Survived Ticket  Title  child  parent  single  \n",
       "1043       NaN   3701      2      0       0       1  "
      ]
     },
     "execution_count": 20,
     "metadata": {},
     "output_type": "execute_result"
    }
   ],
   "source": [
    "data[data[\"Fare\"].isna()] # missing row"
   ]
  },
  {
   "cell_type": "code",
   "execution_count": 21,
   "metadata": {},
   "outputs": [],
   "source": [
    "# fill in the missing line with the mean of dependent on Pclass\n",
    "data[\"Fare\"] = data.apply(lambda row: data.groupby(\"Pclass\").Fare.mean()[row.Pclass] if np.isnan(row.Fare) else row.Fare, axis = 1)"
   ]
  },
  {
   "cell_type": "markdown",
   "metadata": {},
   "source": [
    "### Embarked"
   ]
  },
  {
   "cell_type": "code",
   "execution_count": 22,
   "metadata": {},
   "outputs": [
    {
     "data": {
      "text/plain": [
       "<matplotlib.axes._subplots.AxesSubplot at 0x1a1a517128>"
      ]
     },
     "execution_count": 22,
     "metadata": {},
     "output_type": "execute_result"
    },
    {
     "data": {
      "image/png": "[encoded data removed]",
      "text/plain": [
       "<Figure size 720x432 with 1 Axes>"
      ]
     },
     "metadata": {
      "needs_background": "light"
     },
     "output_type": "display_data"
    }
   ],
   "source": [
    "# S embarking seems to have detrimental effect on survival\n",
    "plt.figure(figsize=(10, 6))\n",
    "sns.countplot(x = \"Embarked\", data = data, hue = \"Survived\")"
   ]
  },
  {
   "cell_type": "code",
   "execution_count": 23,
   "metadata": {},
   "outputs": [
    {
     "name": "stdout",
     "output_type": "stream",
     "text": [
      "Embarked\n",
      "C    62.336267\n",
      "Q    12.409012\n",
      "S    27.403380\n",
      "Name: Fare, dtype: float64\n"
     ]
    },
    {
     "data": {
      "text/plain": [
       "Embarked  Pclass\n",
       "C         1         141\n",
       "          2          28\n",
       "          3         101\n",
       "Q         1           3\n",
       "          2           7\n",
       "          3         113\n",
       "S         1         177\n",
       "          2         242\n",
       "          3         495\n",
       "Name: PassengerId, dtype: int64"
      ]
     },
     "execution_count": 23,
     "metadata": {},
     "output_type": "execute_result"
    }
   ],
   "source": [
    "# S is not the least expensive on average\n",
    "print(data.groupby(\"Embarked\").Fare.mean())\n",
    "data.groupby([\"Embarked\", \"Pclass\"]).PassengerId.count()"
   ]
  },
  {
   "cell_type": "code",
   "execution_count": 24,
   "metadata": {},
   "outputs": [
    {
     "data": {
      "text/html": [
       "<div>\n",
       "<style scoped>\n",
       "    .dataframe tbody tr th:only-of-type {\n",
       "        vertical-align: middle;\n",
       "    }\n",
       "\n",
       "    .dataframe tbody tr th {\n",
       "        vertical-align: top;\n",
       "    }\n",
       "\n",
       "    .dataframe thead th {\n",
       "        text-align: right;\n",
       "    }\n",
       "</style>\n",
       "<table border=\"1\" class=\"dataframe\">\n",
       "  <thead>\n",
       "    <tr style=\"text-align: right;\">\n",
       "      <th></th>\n",
       "      <th>Age</th>\n",
       "      <th>Cabin</th>\n",
       "      <th>Embarked</th>\n",
       "      <th>Fare</th>\n",
       "      <th>Parch</th>\n",
       "      <th>PassengerId</th>\n",
       "      <th>Pclass</th>\n",
       "      <th>Sex</th>\n",
       "      <th>SibSp</th>\n",
       "      <th>Survived</th>\n",
       "      <th>Ticket</th>\n",
       "      <th>Title</th>\n",
       "      <th>child</th>\n",
       "      <th>parent</th>\n",
       "      <th>single</th>\n",
       "    </tr>\n",
       "  </thead>\n",
       "  <tbody>\n",
       "    <tr>\n",
       "      <th>61</th>\n",
       "      <td>38.0</td>\n",
       "      <td>B28</td>\n",
       "      <td>NaN</td>\n",
       "      <td>80.0</td>\n",
       "      <td>0</td>\n",
       "      <td>62</td>\n",
       "      <td>1</td>\n",
       "      <td>0</td>\n",
       "      <td>0</td>\n",
       "      <td>1.0</td>\n",
       "      <td>113572</td>\n",
       "      <td>1</td>\n",
       "      <td>0</td>\n",
       "      <td>0</td>\n",
       "      <td>1</td>\n",
       "    </tr>\n",
       "    <tr>\n",
       "      <th>829</th>\n",
       "      <td>62.0</td>\n",
       "      <td>B28</td>\n",
       "      <td>NaN</td>\n",
       "      <td>80.0</td>\n",
       "      <td>0</td>\n",
       "      <td>830</td>\n",
       "      <td>1</td>\n",
       "      <td>0</td>\n",
       "      <td>0</td>\n",
       "      <td>1.0</td>\n",
       "      <td>113572</td>\n",
       "      <td>3</td>\n",
       "      <td>0</td>\n",
       "      <td>0</td>\n",
       "      <td>1</td>\n",
       "    </tr>\n",
       "  </tbody>\n",
       "</table>\n",
       "</div>"
      ],
      "text/plain": [
       "      Age Cabin Embarked  Fare  Parch  PassengerId  Pclass  Sex  SibSp  \\\n",
       "61   38.0   B28      NaN  80.0      0           62       1    0      0   \n",
       "829  62.0   B28      NaN  80.0      0          830       1    0      0   \n",
       "\n",
       "     Survived  Ticket  Title  child  parent  single  \n",
       "61        1.0  113572      1      0       0       1  \n",
       "829       1.0  113572      3      0       0       1  "
      ]
     },
     "execution_count": 24,
     "metadata": {},
     "output_type": "execute_result"
    }
   ],
   "source": [
    "data[data.Embarked.isna()]"
   ]
  },
  {
   "cell_type": "code",
   "execution_count": 25,
   "metadata": {},
   "outputs": [],
   "source": [
    "# Based on both Fare and class let's fill the NA's in with C's\n",
    "data.Embarked = data.Embarked.apply(lambda x: \"C\" if pd.isnull(x) else x)"
   ]
  },
  {
   "cell_type": "code",
   "execution_count": 26,
   "metadata": {},
   "outputs": [],
   "source": [
    "# Make Embarked a dummy variable \n",
    "data = pd.concat([data, pd.get_dummies(data.Embarked)], axis = 1)\n",
    "data = data.drop(columns = \"Embarked\")"
   ]
  },
  {
   "cell_type": "markdown",
   "metadata": {},
   "source": [
    "### Ticket, Cabin\n",
    "\n",
    "- These variables look uninformative in terms of predicting survival.\n",
    "    - Ticket seems like it would require severe wrangling to obtain any patterns or ML processable data\n",
    "    - Cabin has many missing values"
   ]
  },
  {
   "cell_type": "code",
   "execution_count": 27,
   "metadata": {},
   "outputs": [],
   "source": [
    "data = data.drop(columns = [\"Ticket\", \"Cabin\"])"
   ]
  },
  {
   "cell_type": "markdown",
   "metadata": {},
   "source": [
    "## Train ML model\n",
    "\n",
    "### Split data back into train/test/valid"
   ]
  },
  {
   "cell_type": "code",
   "execution_count": 28,
   "metadata": {},
   "outputs": [],
   "source": [
    "# split data back into train and test \n",
    "train = data[data.Survived.notna()]\n",
    "train = train.drop(columns = \"PassengerId\")\n",
    "test = data[data.Survived.isna()]"
   ]
  },
  {
   "cell_type": "code",
   "execution_count": 29,
   "metadata": {},
   "outputs": [
    {
     "name": "stdout",
     "output_type": "stream",
     "text": [
      "(712, 14)\n",
      "(179, 14)\n"
     ]
    }
   ],
   "source": [
    "# split the train into train and validation datasets \n",
    "# validation to get a local estimate of ML model performance\n",
    "train, valid = train_test_split(train, # DataFrame to split\n",
    "                                      test_size = 0.2, # proportion to split \n",
    "                                      random_state = 32) \n",
    "print(train.shape)\n",
    "print(valid.shape)"
   ]
  },
  {
   "cell_type": "markdown",
   "metadata": {},
   "source": [
    "### Hyperparamater tuning\n",
    "\n",
    "- Random forest top-level intuition is well explained in: https://towardsdatascience.com/understanding-random-forest-58381e0602d2 \n",
    "    - Random forest is an ensemble of decision trees. Each decision tree operates by splitting the data based on the features that would result in groups being as different from each other as possible. Then having an outputted class at the end of each \"branch\". \n",
    "    - Random forest performs better by having uncorrelated decision trees voting together for the class a particular sample. The uncorrelated nature of the single individual trees allows for individual errors to be masked - \"wisdom of crowds\" \n",
    "    - The uncorrelated nature of indivudual decision trees is attained through bagging (bootstrap aggregation) and feature randomness: \n",
    "        1. Bagging is randomly sampling the an N number of samples with replacement. For example a dataset of samples 1, 2, 3, 4, 5 may be bagged to 2, 2, 4, 3, 3. Note: the N remains as 5 samples.\n",
    "        2. Feature randomness works by not allowing each decision tree access to the entire set of features, only a random subset of these. \n",
    "    \n",
    "- More detail and mathematical concepts can be found in: https://towardsdatascience.com/an-implementation-and-explanation-of-the-random-forest-in-python-77bf308a9b76 \n",
    "\n",
    "- Following https://towardsdatascience.com/hyperparameter-tuning-the-random-forest-in-python-using-scikit-learn-28d2aa77dd74: \n",
    "    1. Tune hyperparameters over a large range through RandomizedSearchCV() to save computing time\n",
    "    2. Then hone in on the local optima found by 1 using GridSearchCV() to search across all values near that optima"
   ]
  },
  {
   "cell_type": "code",
   "execution_count": 30,
   "metadata": {},
   "outputs": [
    {
     "data": {
      "text/plain": [
       "RandomizedSearchCV(cv=3, error_score='raise-deprecating',\n",
       "          estimator=RandomForestClassifier(bootstrap=True, class_weight=None, criterion='gini',\n",
       "            max_depth=None, max_features='auto', max_leaf_nodes=None,\n",
       "            min_impurity_decrease=0.0, min_impurity_split=None,\n",
       "            min_samples_leaf=1, min_samples_split=2,\n",
       "            min_weight_fraction_leaf=0.0, n_estimators='warn', n_jobs=None,\n",
       "            oob_score=False, random_state=42, verbose=0, warm_start=False),\n",
       "          fit_params=None, iid='warn', n_iter=100, n_jobs=4,\n",
       "          param_distributions={'n_estimators': [200, 400, 600, 800, 1000, 1200, 1400, 1600, 1800, 2000], 'max_features': ['auto', 'log2'], 'max_depth': [10, 20, 30, 40, 50, 60, 70, 80, 90, 100, 110, None], 'min_samples_split': [2, 5, 10], 'min_samples_leaf': [1, 2, 4], 'bootstrap': [True, False]},\n",
       "          pre_dispatch='2*n_jobs', random_state=42, refit=True,\n",
       "          return_train_score='warn', scoring=None, verbose=0)"
      ]
     },
     "execution_count": 30,
     "metadata": {},
     "output_type": "execute_result"
    }
   ],
   "source": [
    "model = RandomForestClassifier(random_state = 42)\n",
    "\n",
    "# Number of trees in random forest\n",
    "n_estimators = [int(x) for x in np.linspace(start = 200, stop = 2000, num = 10)]\n",
    "\n",
    "# Number of features to consider at every split\n",
    "max_features = [\"auto\", \"log2\"]\n",
    "\n",
    "# Maximum number of levels in tree\n",
    "max_depth = [int(x) for x in np.linspace(10, 110, num = 11)]\n",
    "max_depth.append(None)\n",
    "\n",
    "# Minimum number of samples required to split a node\n",
    "min_samples_split = [2, 5, 10]\n",
    "\n",
    "# Minimum number of samples required at each leaf node\n",
    "min_samples_leaf = [1, 2, 4]\n",
    "\n",
    "# Method of selecting samples for training each tree\n",
    "bootstrap = [True, False]\n",
    "\n",
    "# Create the random grid\n",
    "random_grid = {'n_estimators': n_estimators,\n",
    "               'max_features': max_features,\n",
    "               'max_depth': max_depth,\n",
    "               'min_samples_split': min_samples_split,\n",
    "               'min_samples_leaf': min_samples_leaf,\n",
    "               'bootstrap': bootstrap}\n",
    "\n",
    "clf_random = RandomizedSearchCV(estimator = model, \n",
    "                                param_distributions = random_grid, \n",
    "                                n_iter = 100, \n",
    "                                cv = 3, \n",
    "                                n_jobs = 4, \n",
    "                                random_state = 42)\n",
    "\n",
    "# Fit the random search model\n",
    "clf_random.fit(train.drop(columns = \"Survived\"), train[\"Survived\"])"
   ]
  },
  {
   "cell_type": "code",
   "execution_count": 31,
   "metadata": {},
   "outputs": [
    {
     "data": {
      "text/plain": [
       "{'n_estimators': 600,\n",
       " 'min_samples_split': 10,\n",
       " 'min_samples_leaf': 1,\n",
       " 'max_features': 'log2',\n",
       " 'max_depth': 110,\n",
       " 'bootstrap': True}"
      ]
     },
     "execution_count": 31,
     "metadata": {},
     "output_type": "execute_result"
    }
   ],
   "source": [
    "clf_random.best_params_"
   ]
  },
  {
   "cell_type": "code",
   "execution_count": 32,
   "metadata": {},
   "outputs": [
    {
     "name": "stdout",
     "output_type": "stream",
     "text": [
      "RandomForestClassifier(bootstrap='True', class_weight=None, criterion='gini',\n",
      "            max_depth=90, max_features='auto', max_leaf_nodes=None,\n",
      "            min_impurity_decrease=0.0, min_impurity_split=None,\n",
      "            min_samples_leaf=2, min_samples_split=10,\n",
      "            min_weight_fraction_leaf=0.0, n_estimators=700, n_jobs=None,\n",
      "            oob_score=False, random_state=42, verbose=0, warm_start=False)\n"
     ]
    }
   ],
   "source": [
    "# Create the parameter grid based on the results of random search \n",
    "parameters = dict(n_estimators = [500, 550, 600, 650, 700],\n",
    "                  max_features = [\"auto\", \"log2\"],\n",
    "                  min_samples_leaf = [1, 2, 3],\n",
    "                  min_samples_split = [8, 10, 12], \n",
    "                  max_depth = [90, 100, 110, 120, 130, None], \n",
    "                  bootstrap = [\"True\"])\n",
    "\n",
    "# do cross validation to search for optimal hyperparams\n",
    "grid = GridSearchCV(estimator = model, \n",
    "                    param_grid = parameters,\n",
    "                    scoring = 'accuracy', # which score to optimise for \n",
    "                    cv = 5, # k-fold cross validation validation \n",
    "                    n_jobs = 4) # parrellel over 4 cores\n",
    "\n",
    "grid.fit(train.drop(columns = \"Survived\"), train[\"Survived\"])\n",
    "\n",
    "clf = grid.best_estimator_\n",
    "\n",
    "print(clf) # tuned estimator "
   ]
  },
  {
   "cell_type": "code",
   "execution_count": 33,
   "metadata": {},
   "outputs": [
    {
     "name": "stdout",
     "output_type": "stream",
     "text": [
      "   features  importance\n",
      "0       Sex    0.270324\n",
      "1      Fare    0.172597\n",
      "2     Title    0.156927\n",
      "3       Age    0.127399\n",
      "4    Pclass    0.111806\n",
      "5     SibSp    0.054738\n",
      "6     Parch    0.023150\n",
      "7    single    0.018383\n",
      "8         S    0.018015\n",
      "9         C    0.017464\n",
      "10    child    0.013837\n",
      "11        Q    0.007881\n",
      "12   parent    0.007480\n"
     ]
    },
    {
     "data": {
      "text/plain": [
       "<matplotlib.axes._subplots.AxesSubplot at 0x1a1ac2af98>"
      ]
     },
     "execution_count": 33,
     "metadata": {},
     "output_type": "execute_result"
    },
    {
     "data": {
      "image/png": "[encoded data removed]",
      "text/plain": [
       "<Figure size 1152x432 with 1 Axes>"
      ]
     },
     "metadata": {
      "needs_background": "light"
     },
     "output_type": "display_data"
    }
   ],
   "source": [
    "feat_imp = pd.DataFrame({\"features\" : train.drop(columns = \"Survived\").columns, \n",
    "                        \"importance\": clf.feature_importances_})\n",
    "feat_imp = feat_imp.sort_values(['importance'], ascending = False).reset_index(drop=True)\n",
    "\n",
    "print(feat_imp)\n",
    "\n",
    "plt.figure(figsize=(16, 6))\n",
    "sns.barplot(x = \"features\", y = \"importance\", data = feat_imp)"
   ]
  },
  {
   "cell_type": "markdown",
   "metadata": {},
   "source": [
    "### Predict "
   ]
  },
  {
   "cell_type": "code",
   "execution_count": 34,
   "metadata": {},
   "outputs": [
    {
     "name": "stdout",
     "output_type": "stream",
     "text": [
      "[[0.95862937 0.04137063]\n",
      " [0.03067802 0.96932198]\n",
      " [0.01044413 0.98955587]\n",
      " [0.92720672 0.07279328]\n",
      " [0.95981555 0.04018445]\n",
      " [0.05743188 0.94256812]\n",
      " [0.39008966 0.60991034]\n",
      " [0.90542519 0.09457481]\n",
      " [0.97945686 0.02054314]\n",
      " [0.68673797 0.31326203]]\n"
     ]
    }
   ],
   "source": [
    "# predict on validation set for local evaluation of model performance\n",
    "valid_pred = clf.predict(valid.drop(columns = \"Survived\"))\n",
    "\n",
    "# obtain the actual prediction probabilities \n",
    "valid_pred_prob = clf.predict_proba(valid.drop(columns = \"Survived\"))\n",
    "print(valid_pred_prob[0:10]) # array of N,2 with the probability of each person being either class 1 or 0"
   ]
  },
  {
   "cell_type": "code",
   "execution_count": 35,
   "metadata": {},
   "outputs": [
    {
     "name": "stderr",
     "output_type": "stream",
     "text": [
      "/anaconda3/lib/python3.7/site-packages/pandas/core/generic.py:5096: SettingWithCopyWarning: \n",
      "A value is trying to be set on a copy of a slice from a DataFrame.\n",
      "Try using .loc[row_indexer,col_indexer] = value instead\n",
      "\n",
      "See the caveats in the documentation: http://pandas.pydata.org/pandas-docs/stable/indexing.html#indexing-view-versus-copy\n",
      "  self[name] = value\n"
     ]
    }
   ],
   "source": [
    "# get predictions for test set to submit on kaggle\n",
    "#grid.fit(pd.concat([train, valid]).drop(columns = \"Survived\"), \n",
    "#         pd.concat([train, valid])[\"Survived\"]) # train entire set of training examples\n",
    "\n",
    "#print(grid.best_estimator_)\n",
    "\n",
    "test.Survived = clf.predict(test.drop(columns = [\"PassengerId\", \"Survived\"])).astype(int)\n",
    "test[[\"PassengerId\", \"Survived\"]].to_csv(\"/Users/DZ_laptop/Dropbox/DZ_Work/kaggle/getting_started_kaggle/titanic/results/titanic_preds.csv\", index = False)"
   ]
  },
  {
   "cell_type": "markdown",
   "metadata": {},
   "source": [
    "## Evaluate predictions\n",
    "\n",
    "### Confusion matrix\n",
    "\n",
    "- Confusion matrix gives the values for TP, FP, FN, TN"
   ]
  },
  {
   "cell_type": "code",
   "execution_count": 36,
   "metadata": {},
   "outputs": [
    {
     "data": {
      "text/plain": [
       "<matplotlib.axes._subplots.AxesSubplot at 0x1a1ac2afd0>"
      ]
     },
     "execution_count": 36,
     "metadata": {},
     "output_type": "execute_result"
    },
    {
     "data": {
      "image/png": "[encoded data removed]",
      "text/plain": [
       "<Figure size 720x432 with 2 Axes>"
      ]
     },
     "metadata": {
      "needs_background": "light"
     },
     "output_type": "display_data"
    }
   ],
   "source": [
    "plt.figure(figsize=(10, 6))\n",
    "confusion_m = metrics.confusion_matrix(valid[\"Survived\"], valid_pred, labels=[0,1])\n",
    "sns.heatmap(confusion_m, \n",
    "            annot = True)"
   ]
  },
  {
   "cell_type": "markdown",
   "metadata": {},
   "source": [
    "### ML performance metrics\n",
    "\n",
    "- Intuition taken from: https://www.geeksforgeeks.org/confusion-matrix-machine-learning/ \n",
    "\n",
    "1. **Precision**: TP/(TP + FP): \n",
    "    - What proportion of those **predicted** to survive, actually survived? \n",
    "    - The proportion of the predictions of that class that are accurate\n",
    "2. **Recall** = TP/(TP + FN)\n",
    "    - How many of those surviving the titanic are accurately predicted as survived?\n",
    "    - The proportion of examples of that class that you're able to correctly label/recall\n",
    "3. **F1-score** = (2 * Prec * Recall)/(Prec + Recall)\n",
    "    - Aggregate preciaion and recall into 1 score\n",
    "    - Harmonic Mean of precision and recall, which punishes extreme values more, meaning it'll always be closer to the lower value of the two\n",
    "    \n",
    "*High recall, low precision:* This means that most of the positive examples are correctly recognized (low FN) but there are a lot of false positives.\n",
    "\n",
    "*Low recall, high precision:* This shows that we miss a lot of positive examples (high FN) but those we predict as positive are indeed positive (low FP)"
   ]
  },
  {
   "cell_type": "code",
   "execution_count": 37,
   "metadata": {},
   "outputs": [
    {
     "name": "stdout",
     "output_type": "stream",
     "text": [
      "              precision    recall  f1-score   support\n",
      "\n",
      "         0.0       0.83      0.88      0.86       108\n",
      "         1.0       0.80      0.73      0.76        71\n",
      "\n",
      "   micro avg       0.82      0.82      0.82       179\n",
      "   macro avg       0.82      0.81      0.81       179\n",
      "weighted avg       0.82      0.82      0.82       179\n",
      "\n"
     ]
    }
   ],
   "source": [
    "print(metrics.classification_report(valid[\"Survived\"], valid_pred))"
   ]
  },
  {
   "cell_type": "code",
   "execution_count": 38,
   "metadata": {},
   "outputs": [
    {
     "name": "stdout",
     "output_type": "stream",
     "text": [
      "Accuracy:  0.8212290502793296\n",
      "Precision:  0.8\n",
      "Recall:  0.7323943661971831\n",
      "F1_score:  0.7647058823529411\n",
      "ROC_AUC:  0.8060119979134064\n",
      "Kappa:  0.6210136297472542\n",
      "MCC:  0.6225875017674073\n"
     ]
    }
   ],
   "source": [
    "print(\"Accuracy: \", metrics.accuracy_score(valid[\"Survived\"], valid_pred)) \n",
    "print(\"Precision: \", metrics.precision_score(valid[\"Survived\"], valid_pred))\n",
    "print(\"Recall: \", metrics.recall_score(valid[\"Survived\"], valid_pred))\n",
    "print(\"F1_score: \", metrics.f1_score(valid[\"Survived\"], valid_pred))\n",
    "print(\"ROC_AUC: \", metrics.roc_auc_score(valid[\"Survived\"], valid_pred))\n",
    "print(\"Kappa: \", metrics.cohen_kappa_score(valid[\"Survived\"], valid_pred))\n",
    "print(\"MCC: \", metrics.matthews_corrcoef(valid[\"Survived\"], valid_pred))"
   ]
  },
  {
   "cell_type": "markdown",
   "metadata": {},
   "source": [
    "### ROC curve"
   ]
  },
  {
   "cell_type": "code",
   "execution_count": 39,
   "metadata": {},
   "outputs": [
    {
     "name": "stdout",
     "output_type": "stream",
     "text": [
      "0.8060119979134064\n",
      "[0.         0.         0.         0.00925926 0.00925926 0.01851852\n",
      " 0.01851852 0.02777778 0.02777778 0.03703704 0.03703704 0.0462963\n",
      " 0.0462963  0.07407407 0.07407407 0.08333333 0.08333333 0.09259259\n",
      " 0.09259259 0.11111111 0.11111111 0.12037037 0.12037037 0.12962963\n",
      " 0.12962963 0.13888889 0.13888889 0.17592593 0.17592593 0.23148148\n",
      " 0.23148148 0.33333333 0.33333333 0.34259259 0.34259259 0.39814815\n",
      " 0.39814815 0.46296296 0.48148148 0.49074074 0.49074074 0.5\n",
      " 0.5        0.58333333 0.62037037 0.65740741 0.65740741 0.75\n",
      " 0.75       0.84259259 0.85185185 0.87037037 0.89814815 0.89814815\n",
      " 0.97222222 0.99074074 1.        ]\n",
      "[0.         0.01408451 0.18309859 0.18309859 0.38028169 0.38028169\n",
      " 0.50704225 0.50704225 0.56338028 0.56338028 0.57746479 0.57746479\n",
      " 0.61971831 0.61971831 0.63380282 0.63380282 0.66197183 0.66197183\n",
      " 0.70422535 0.70422535 0.71830986 0.71830986 0.76056338 0.76056338\n",
      " 0.8028169  0.8028169  0.81690141 0.81690141 0.83098592 0.83098592\n",
      " 0.85915493 0.85915493 0.87323944 0.87323944 0.90140845 0.90140845\n",
      " 0.91549296 0.91549296 0.91549296 0.91549296 0.92957746 0.92957746\n",
      " 0.94366197 0.94366197 0.94366197 0.94366197 0.95774648 0.95774648\n",
      " 0.97183099 0.97183099 0.98591549 0.98591549 0.98591549 1.\n",
      " 1.         1.         1.        ]\n",
      "[1.98955587 0.98955587 0.92203668 0.91134129 0.8505457  0.84184261\n",
      " 0.7290601  0.7211231  0.67996487 0.67946176 0.65523692 0.63840997\n",
      " 0.6172264  0.59364817 0.57890966 0.56151581 0.53936864 0.53725153\n",
      " 0.51667434 0.51384796 0.51353658 0.51265731 0.47846588 0.46987185\n",
      " 0.45792182 0.45102575 0.45010556 0.44193982 0.43931905 0.36075901\n",
      " 0.34592127 0.22685707 0.22576294 0.21931076 0.19638962 0.16883596\n",
      " 0.16724498 0.13744504 0.13425113 0.13182744 0.13177567 0.12867993\n",
      " 0.1264705  0.11229281 0.11214079 0.09880875 0.09863491 0.07861514\n",
      " 0.07585541 0.05839724 0.05540921 0.05506335 0.04952403 0.0494608\n",
      " 0.02272564 0.02188354 0.02054314]\n"
     ]
    }
   ],
   "source": [
    "roc_auc = metrics.roc_auc_score(valid[\"Survived\"], valid_pred)\n",
    "fpr, tpr, thresholds = metrics.roc_curve(valid[\"Survived\"], valid_pred_prob[:,1])\n",
    "\n",
    "print(roc_auc)\n",
    "print(fpr)\n",
    "print(tpr)\n",
    "print(thresholds)"
   ]
  },
  {
   "cell_type": "code",
   "execution_count": 40,
   "metadata": {},
   "outputs": [
    {
     "data": {
      "text/plain": [
       "<matplotlib.legend.Legend at 0x1a1ac09cc0>"
      ]
     },
     "execution_count": 40,
     "metadata": {},
     "output_type": "execute_result"
    },
    {
     "data": {
      "image/png": "[encoded data removed]",
      "text/plain": [
       "<Figure size 720x432 with 1 Axes>"
      ]
     },
     "metadata": {
      "needs_background": "light"
     },
     "output_type": "display_data"
    }
   ],
   "source": [
    "# Plot ROC curve\n",
    "plt.figure(figsize=(10, 6))\n",
    "plt.plot(fpr, tpr, label = '(area = %0.2f)' % roc_auc)\n",
    "plt.plot([0, 1], [0, 1],'r--')\n",
    "plt.xlim([0.0, 1.0])\n",
    "plt.ylim([0.0, 1.05])\n",
    "plt.xlabel('False Positive Rate')\n",
    "plt.ylabel('True Positive Rate')\n",
    "plt.title('Receiver operating characteristic')\n",
    "plt.legend(loc = \"lower right\")"
   ]
  }
 ],
 "metadata": {
  "kernelspec": {
   "display_name": "Python 3",
   "language": "python",
   "name": "python3"
  },
  "language_info": {
   "codemirror_mode": {
    "name": "ipython",
    "version": 3
   },
   "file_extension": ".py",
   "mimetype": "text/x-python",
   "name": "python",
   "nbconvert_exporter": "python",
   "pygments_lexer": "ipython3",
   "version": "3.7.3"
  }
 },
 "nbformat": 4,
 "nbformat_minor": 2
}
