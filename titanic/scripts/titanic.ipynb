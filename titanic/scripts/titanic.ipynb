{
 "cells": [
  {
   "cell_type": "markdown",
   "metadata": {},
   "source": [
    "# Who survives in the titanic?\n",
    "\n",
    "> Aim of this notebook is to practice coding in python and ML classification techniques\n",
    "\n",
    "From a top level, this will follow the workflow: \n",
    "\n",
    "    1. Data exploration\n",
    "    2. Feature engineering\n",
    "    3. Train ML model \n",
    "    4. Predict using ML model \n",
    "    5. Evaluate predictions"
   ]
  },
  {
   "cell_type": "code",
   "execution_count": 1,
   "metadata": {},
   "outputs": [],
   "source": [
    "import pandas as pd\n",
    "import numpy as np\n",
    "\n",
    "from scipy import stats\n",
    "\n",
    "# Regular expressions\n",
    "import re\n",
    "\n",
    "# Plotting\n",
    "import seaborn as sns\n",
    "import matplotlib.pyplot as plt\n",
    "plt.style.use(\"ggplot\")\n",
    "\n",
    "# Preprocessing\n",
    "from sklearn.preprocessing import LabelEncoder\n",
    "from sklearn.preprocessing import maxabs_scale\n",
    "\n",
    "# ML model training\n",
    "from sklearn.linear_model import LogisticRegression\n",
    "from sklearn.ensemble import RandomForestClassifier\n",
    "from sklearn.svm import SVC\n",
    "from sklearn.neighbors import KNeighborsClassifier\n",
    "from sklearn.naive_bayes import GaussianNB\n",
    "\n",
    "from sklearn.model_selection import train_test_split\n",
    "from sklearn.model_selection import RandomizedSearchCV\n",
    "from sklearn.model_selection import GridSearchCV\n",
    "\n",
    "# Evaluation\n",
    "from sklearn import metrics "
   ]
  },
  {
   "cell_type": "markdown",
   "metadata": {},
   "source": [
    "## Data exploration"
   ]
  },
  {
   "cell_type": "code",
   "execution_count": 2,
   "metadata": {},
   "outputs": [],
   "source": [
    "# load in the data and overview of the data structure\n",
    "train = pd.read_csv(\"/Users/DZ_laptop/Dropbox/DZ_Work/kaggle/getting_started_kaggle/titanic/raw_data/train.csv\")\n",
    "test = pd.read_csv(\"/Users/DZ_laptop/Dropbox/DZ_Work/kaggle/getting_started_kaggle/titanic/raw_data/test.csv\")"
   ]
  },
  {
   "cell_type": "code",
   "execution_count": 3,
   "metadata": {},
   "outputs": [
    {
     "name": "stdout",
     "output_type": "stream",
     "text": [
      "(891, 12)\n"
     ]
    },
    {
     "data": {
      "text/html": [
       "<div>\n",
       "<style scoped>\n",
       "    .dataframe tbody tr th:only-of-type {\n",
       "        vertical-align: middle;\n",
       "    }\n",
       "\n",
       "    .dataframe tbody tr th {\n",
       "        vertical-align: top;\n",
       "    }\n",
       "\n",
       "    .dataframe thead th {\n",
       "        text-align: right;\n",
       "    }\n",
       "</style>\n",
       "<table border=\"1\" class=\"dataframe\">\n",
       "  <thead>\n",
       "    <tr style=\"text-align: right;\">\n",
       "      <th></th>\n",
       "      <th>PassengerId</th>\n",
       "      <th>Survived</th>\n",
       "      <th>Pclass</th>\n",
       "      <th>Name</th>\n",
       "      <th>Sex</th>\n",
       "      <th>Age</th>\n",
       "      <th>SibSp</th>\n",
       "      <th>Parch</th>\n",
       "      <th>Ticket</th>\n",
       "      <th>Fare</th>\n",
       "      <th>Cabin</th>\n",
       "      <th>Embarked</th>\n",
       "    </tr>\n",
       "  </thead>\n",
       "  <tbody>\n",
       "    <tr>\n",
       "      <th>0</th>\n",
       "      <td>1</td>\n",
       "      <td>0</td>\n",
       "      <td>3</td>\n",
       "      <td>Braund, Mr. Owen Harris</td>\n",
       "      <td>male</td>\n",
       "      <td>22.0</td>\n",
       "      <td>1</td>\n",
       "      <td>0</td>\n",
       "      <td>A/5 21171</td>\n",
       "      <td>7.2500</td>\n",
       "      <td>NaN</td>\n",
       "      <td>S</td>\n",
       "    </tr>\n",
       "    <tr>\n",
       "      <th>1</th>\n",
       "      <td>2</td>\n",
       "      <td>1</td>\n",
       "      <td>1</td>\n",
       "      <td>Cumings, Mrs. John Bradley (Florence Briggs Th...</td>\n",
       "      <td>female</td>\n",
       "      <td>38.0</td>\n",
       "      <td>1</td>\n",
       "      <td>0</td>\n",
       "      <td>PC 17599</td>\n",
       "      <td>71.2833</td>\n",
       "      <td>C85</td>\n",
       "      <td>C</td>\n",
       "    </tr>\n",
       "    <tr>\n",
       "      <th>2</th>\n",
       "      <td>3</td>\n",
       "      <td>1</td>\n",
       "      <td>3</td>\n",
       "      <td>Heikkinen, Miss. Laina</td>\n",
       "      <td>female</td>\n",
       "      <td>26.0</td>\n",
       "      <td>0</td>\n",
       "      <td>0</td>\n",
       "      <td>STON/O2. 3101282</td>\n",
       "      <td>7.9250</td>\n",
       "      <td>NaN</td>\n",
       "      <td>S</td>\n",
       "    </tr>\n",
       "    <tr>\n",
       "      <th>3</th>\n",
       "      <td>4</td>\n",
       "      <td>1</td>\n",
       "      <td>1</td>\n",
       "      <td>Futrelle, Mrs. Jacques Heath (Lily May Peel)</td>\n",
       "      <td>female</td>\n",
       "      <td>35.0</td>\n",
       "      <td>1</td>\n",
       "      <td>0</td>\n",
       "      <td>113803</td>\n",
       "      <td>53.1000</td>\n",
       "      <td>C123</td>\n",
       "      <td>S</td>\n",
       "    </tr>\n",
       "    <tr>\n",
       "      <th>4</th>\n",
       "      <td>5</td>\n",
       "      <td>0</td>\n",
       "      <td>3</td>\n",
       "      <td>Allen, Mr. William Henry</td>\n",
       "      <td>male</td>\n",
       "      <td>35.0</td>\n",
       "      <td>0</td>\n",
       "      <td>0</td>\n",
       "      <td>373450</td>\n",
       "      <td>8.0500</td>\n",
       "      <td>NaN</td>\n",
       "      <td>S</td>\n",
       "    </tr>\n",
       "  </tbody>\n",
       "</table>\n",
       "</div>"
      ],
      "text/plain": [
       "   PassengerId  Survived  Pclass  \\\n",
       "0            1         0       3   \n",
       "1            2         1       1   \n",
       "2            3         1       3   \n",
       "3            4         1       1   \n",
       "4            5         0       3   \n",
       "\n",
       "                                                Name     Sex   Age  SibSp  \\\n",
       "0                            Braund, Mr. Owen Harris    male  22.0      1   \n",
       "1  Cumings, Mrs. John Bradley (Florence Briggs Th...  female  38.0      1   \n",
       "2                             Heikkinen, Miss. Laina  female  26.0      0   \n",
       "3       Futrelle, Mrs. Jacques Heath (Lily May Peel)  female  35.0      1   \n",
       "4                           Allen, Mr. William Henry    male  35.0      0   \n",
       "\n",
       "   Parch            Ticket     Fare Cabin Embarked  \n",
       "0      0         A/5 21171   7.2500   NaN        S  \n",
       "1      0          PC 17599  71.2833   C85        C  \n",
       "2      0  STON/O2. 3101282   7.9250   NaN        S  \n",
       "3      0            113803  53.1000  C123        S  \n",
       "4      0            373450   8.0500   NaN        S  "
      ]
     },
     "execution_count": 3,
     "metadata": {},
     "output_type": "execute_result"
    }
   ],
   "source": [
    "print(train.shape) # what are the dimensions/number of training examples?\n",
    "train.head() # what features do we have?"
   ]
  },
  {
   "cell_type": "code",
   "execution_count": 4,
   "metadata": {},
   "outputs": [
    {
     "name": "stdout",
     "output_type": "stream",
     "text": [
      "(418, 11)\n"
     ]
    },
    {
     "data": {
      "text/html": [
       "<div>\n",
       "<style scoped>\n",
       "    .dataframe tbody tr th:only-of-type {\n",
       "        vertical-align: middle;\n",
       "    }\n",
       "\n",
       "    .dataframe tbody tr th {\n",
       "        vertical-align: top;\n",
       "    }\n",
       "\n",
       "    .dataframe thead th {\n",
       "        text-align: right;\n",
       "    }\n",
       "</style>\n",
       "<table border=\"1\" class=\"dataframe\">\n",
       "  <thead>\n",
       "    <tr style=\"text-align: right;\">\n",
       "      <th></th>\n",
       "      <th>PassengerId</th>\n",
       "      <th>Pclass</th>\n",
       "      <th>Name</th>\n",
       "      <th>Sex</th>\n",
       "      <th>Age</th>\n",
       "      <th>SibSp</th>\n",
       "      <th>Parch</th>\n",
       "      <th>Ticket</th>\n",
       "      <th>Fare</th>\n",
       "      <th>Cabin</th>\n",
       "      <th>Embarked</th>\n",
       "    </tr>\n",
       "  </thead>\n",
       "  <tbody>\n",
       "    <tr>\n",
       "      <th>0</th>\n",
       "      <td>892</td>\n",
       "      <td>3</td>\n",
       "      <td>Kelly, Mr. James</td>\n",
       "      <td>male</td>\n",
       "      <td>34.5</td>\n",
       "      <td>0</td>\n",
       "      <td>0</td>\n",
       "      <td>330911</td>\n",
       "      <td>7.8292</td>\n",
       "      <td>NaN</td>\n",
       "      <td>Q</td>\n",
       "    </tr>\n",
       "    <tr>\n",
       "      <th>1</th>\n",
       "      <td>893</td>\n",
       "      <td>3</td>\n",
       "      <td>Wilkes, Mrs. James (Ellen Needs)</td>\n",
       "      <td>female</td>\n",
       "      <td>47.0</td>\n",
       "      <td>1</td>\n",
       "      <td>0</td>\n",
       "      <td>363272</td>\n",
       "      <td>7.0000</td>\n",
       "      <td>NaN</td>\n",
       "      <td>S</td>\n",
       "    </tr>\n",
       "    <tr>\n",
       "      <th>2</th>\n",
       "      <td>894</td>\n",
       "      <td>2</td>\n",
       "      <td>Myles, Mr. Thomas Francis</td>\n",
       "      <td>male</td>\n",
       "      <td>62.0</td>\n",
       "      <td>0</td>\n",
       "      <td>0</td>\n",
       "      <td>240276</td>\n",
       "      <td>9.6875</td>\n",
       "      <td>NaN</td>\n",
       "      <td>Q</td>\n",
       "    </tr>\n",
       "    <tr>\n",
       "      <th>3</th>\n",
       "      <td>895</td>\n",
       "      <td>3</td>\n",
       "      <td>Wirz, Mr. Albert</td>\n",
       "      <td>male</td>\n",
       "      <td>27.0</td>\n",
       "      <td>0</td>\n",
       "      <td>0</td>\n",
       "      <td>315154</td>\n",
       "      <td>8.6625</td>\n",
       "      <td>NaN</td>\n",
       "      <td>S</td>\n",
       "    </tr>\n",
       "    <tr>\n",
       "      <th>4</th>\n",
       "      <td>896</td>\n",
       "      <td>3</td>\n",
       "      <td>Hirvonen, Mrs. Alexander (Helga E Lindqvist)</td>\n",
       "      <td>female</td>\n",
       "      <td>22.0</td>\n",
       "      <td>1</td>\n",
       "      <td>1</td>\n",
       "      <td>3101298</td>\n",
       "      <td>12.2875</td>\n",
       "      <td>NaN</td>\n",
       "      <td>S</td>\n",
       "    </tr>\n",
       "  </tbody>\n",
       "</table>\n",
       "</div>"
      ],
      "text/plain": [
       "   PassengerId  Pclass                                          Name     Sex  \\\n",
       "0          892       3                              Kelly, Mr. James    male   \n",
       "1          893       3              Wilkes, Mrs. James (Ellen Needs)  female   \n",
       "2          894       2                     Myles, Mr. Thomas Francis    male   \n",
       "3          895       3                              Wirz, Mr. Albert    male   \n",
       "4          896       3  Hirvonen, Mrs. Alexander (Helga E Lindqvist)  female   \n",
       "\n",
       "    Age  SibSp  Parch   Ticket     Fare Cabin Embarked  \n",
       "0  34.5      0      0   330911   7.8292   NaN        Q  \n",
       "1  47.0      1      0   363272   7.0000   NaN        S  \n",
       "2  62.0      0      0   240276   9.6875   NaN        Q  \n",
       "3  27.0      0      0   315154   8.6625   NaN        S  \n",
       "4  22.0      1      1  3101298  12.2875   NaN        S  "
      ]
     },
     "execution_count": 4,
     "metadata": {},
     "output_type": "execute_result"
    }
   ],
   "source": [
    "print(test.shape)\n",
    "test.head()"
   ]
  },
  {
   "cell_type": "code",
   "execution_count": 5,
   "metadata": {},
   "outputs": [],
   "source": [
    "# combine train and test together to use all the most data possible for feature exploration/engineering\n",
    "data = pd.concat([train, test], sort = True).reset_index(drop = True)"
   ]
  },
  {
   "cell_type": "markdown",
   "metadata": {},
   "source": [
    "### Which columns have missing variables?"
   ]
  },
  {
   "cell_type": "code",
   "execution_count": 6,
   "metadata": {},
   "outputs": [
    {
     "name": "stdout",
     "output_type": "stream",
     "text": [
      "Age has 263 missing values\n",
      "Cabin has 1014 missing values\n",
      "Embarked has 2 missing values\n",
      "Fare has 1 missing values\n",
      "Name has 0 missing values\n",
      "Parch has 0 missing values\n",
      "PassengerId has 0 missing values\n",
      "Pclass has 0 missing values\n",
      "Sex has 0 missing values\n",
      "SibSp has 0 missing values\n",
      "Survived has 418 missing values\n",
      "Ticket has 0 missing values\n"
     ]
    }
   ],
   "source": [
    "for col in data.columns:\n",
    "    \n",
    "    print(\"{} has {} missing values\".format(col, str(data[col].isna().sum())))"
   ]
  },
  {
   "cell_type": "markdown",
   "metadata": {},
   "source": [
    "### Correlation between numeric features"
   ]
  },
  {
   "cell_type": "code",
   "execution_count": 7,
   "metadata": {},
   "outputs": [
    {
     "data": {
      "text/plain": [
       "<matplotlib.axes._subplots.AxesSubplot at 0x1a24857128>"
      ]
     },
     "execution_count": 7,
     "metadata": {},
     "output_type": "execute_result"
    },
    {
     "data": {
      "image/png": "[encoded data removed]",
      "text/plain": [
       "<Figure size 720x576 with 2 Axes>"
      ]
     },
     "metadata": {
      "needs_background": "light"
     },
     "output_type": "display_data"
    }
   ],
   "source": [
    "plt.figure(figsize=(10, 8))\n",
    "sns.heatmap(data.corr(\"pearson\"), \n",
    "            cmap = \"RdBu\", \n",
    "            annot = True)"
   ]
  },
  {
   "cell_type": "markdown",
   "metadata": {},
   "source": [
    "- Fare and Pclass stand out as correlated with the output variable survival. Intuitively, richer passengers are likely to have a greater likelihood of survival. "
   ]
  },
  {
   "cell_type": "markdown",
   "metadata": {},
   "source": [
    "## Feature engineering\n",
    "\n",
    "### Sex"
   ]
  },
  {
   "cell_type": "code",
   "execution_count": 8,
   "metadata": {},
   "outputs": [
    {
     "name": "stdout",
     "output_type": "stream",
     "text": [
      "count     1309\n",
      "unique       2\n",
      "top       male\n",
      "freq       843\n",
      "Name: Sex, dtype: object\n",
      "Sex\n",
      "female    466\n",
      "male      843\n",
      "Name: PassengerId, dtype: int64\n",
      "Sex     Survived\n",
      "female  0.0          81\n",
      "        1.0         233\n",
      "male    0.0         468\n",
      "        1.0         109\n",
      "Name: PassengerId, dtype: int64\n"
     ]
    },
    {
     "data": {
      "image/png": "[encoded data removed]",
      "text/plain": [
       "<Figure size 720x432 with 1 Axes>"
      ]
     },
     "metadata": {
      "needs_background": "light"
     },
     "output_type": "display_data"
    }
   ],
   "source": [
    "print(data[\"Sex\"].describe())\n",
    "print(data.groupby(\"Sex\").PassengerId.count())\n",
    "print(data.groupby([\"Sex\", \"Survived\"]).PassengerId.count()) # a much higher proportion of F survived\n",
    "\n",
    "plt.figure(figsize=(10, 6))\n",
    "sns.countplot(x = \"Sex\", hue = \"Survived\", data = data) # Looks like an important feature \n",
    "data[\"Sex\"] = LabelEncoder().fit_transform(data[\"Sex\"]) # convert Sex to numeric 1/0s"
   ]
  },
  {
   "cell_type": "markdown",
   "metadata": {},
   "source": [
    "- Based on the count plot, it looks as though females have a higher likelihood of survival. Perhaps they were preferentially offered to leave the ship first"
   ]
  },
  {
   "cell_type": "markdown",
   "metadata": {},
   "source": [
    "### Name\n",
    "\n",
    "- Each name is labelled with a title. This may inform both the gender of the person, as well as the age and the status/wealth, all factors that may affect survival"
   ]
  },
  {
   "cell_type": "code",
   "execution_count": 9,
   "metadata": {},
   "outputs": [
    {
     "data": {
      "text/plain": [
       "Title\n",
       "Master     61\n",
       "Miss      262\n",
       "Mr        757\n",
       "Mrs       197\n",
       "other      32\n",
       "Name: Name, dtype: int64"
      ]
     },
     "execution_count": 9,
     "metadata": {},
     "output_type": "execute_result"
    }
   ],
   "source": [
    "# extract title from names\n",
    "data[\"Title\"] = data[\"Name\"].apply(lambda name: re.sub(\".*, \", \"\", name)).apply(lambda name: re.sub(\"\\\\..*\", \"\", name))\n",
    "data[\"Title\"] = data[\"Title\"].apply(lambda title: \"Miss\" if title == \"Ms\" else title) # convert 2 Ms to Miss\n",
    "data[\"Title\"] = data[\"Title\"].apply(lambda title: \"other\" if title not in [\"Master\", \"Miss\", \"Mr\", \"Mrs\", \"Ms\"] else title) # group \"other\" \n",
    "\n",
    "data.groupby(\"Title\").Name.count()"
   ]
  },
  {
   "cell_type": "code",
   "execution_count": 10,
   "metadata": {},
   "outputs": [
    {
     "data": {
      "text/plain": [
       "<matplotlib.axes._subplots.AxesSubplot at 0x1a25089828>"
      ]
     },
     "execution_count": 10,
     "metadata": {},
     "output_type": "execute_result"
    },
    {
     "data": {
      "image/png": "[encoded data removed]",
      "text/plain": [
       "<Figure size 720x432 with 1 Axes>"
      ]
     },
     "metadata": {
      "needs_background": "light"
     },
     "output_type": "display_data"
    }
   ],
   "source": [
    "plt.figure(figsize=(10, 6))\n",
    "sns.countplot(x = \"Title\", hue = \"Survived\", data = data) # again looks informative for survival, with females disproportionately saved"
   ]
  },
  {
   "cell_type": "code",
   "execution_count": 11,
   "metadata": {},
   "outputs": [],
   "source": [
    "# Encode the title data to integer - perhaps better as dummy? \n",
    "data[\"Title\"] = LabelEncoder().fit_transform(data[\"Title\"])\n",
    "data = data.drop(columns = \"Name\") # remove the name variable"
   ]
  },
  {
   "cell_type": "markdown",
   "metadata": {},
   "source": [
    "### Age"
   ]
  },
  {
   "cell_type": "code",
   "execution_count": 12,
   "metadata": {},
   "outputs": [
    {
     "name": "stdout",
     "output_type": "stream",
     "text": [
      "count    1046.000000\n",
      "mean       29.881138\n",
      "std        14.413493\n",
      "min         0.170000\n",
      "25%        21.000000\n",
      "50%        28.000000\n",
      "75%        39.000000\n",
      "max        80.000000\n",
      "Name: Age, dtype: float64\n"
     ]
    },
    {
     "data": {
      "text/plain": [
       "<matplotlib.axes._subplots.AxesSubplot at 0x1a251a2e48>"
      ]
     },
     "execution_count": 12,
     "metadata": {},
     "output_type": "execute_result"
    },
    {
     "data": {
      "image/png": "[encoded data removed]",
      "text/plain": [
       "<Figure size 720x432 with 1 Axes>"
      ]
     },
     "metadata": {
      "needs_background": "light"
     },
     "output_type": "display_data"
    }
   ],
   "source": [
    "print(data[\"Age\"].describe()) \n",
    "plt.figure(figsize=(10, 6))\n",
    "sns.distplot(data[\"Age\"][data[\"Age\"].notna()]) # plot the non-NAs "
   ]
  },
  {
   "cell_type": "code",
   "execution_count": 13,
   "metadata": {},
   "outputs": [
    {
     "data": {
      "text/html": [
       "<div>\n",
       "<style scoped>\n",
       "    .dataframe tbody tr th:only-of-type {\n",
       "        vertical-align: middle;\n",
       "    }\n",
       "\n",
       "    .dataframe tbody tr th {\n",
       "        vertical-align: top;\n",
       "    }\n",
       "\n",
       "    .dataframe thead th {\n",
       "        text-align: right;\n",
       "    }\n",
       "</style>\n",
       "<table border=\"1\" class=\"dataframe\">\n",
       "  <thead>\n",
       "    <tr style=\"text-align: right;\">\n",
       "      <th></th>\n",
       "      <th>Age</th>\n",
       "      <th>Fare</th>\n",
       "      <th>Parch</th>\n",
       "      <th>PassengerId</th>\n",
       "      <th>Pclass</th>\n",
       "      <th>Sex</th>\n",
       "      <th>SibSp</th>\n",
       "      <th>Survived</th>\n",
       "      <th>Title</th>\n",
       "    </tr>\n",
       "  </thead>\n",
       "  <tbody>\n",
       "    <tr>\n",
       "      <th>Age</th>\n",
       "      <td>1.000000</td>\n",
       "      <td>0.178740</td>\n",
       "      <td>-0.150917</td>\n",
       "      <td>0.028814</td>\n",
       "      <td>-0.408106</td>\n",
       "      <td>0.063645</td>\n",
       "      <td>-0.243699</td>\n",
       "      <td>-0.077221</td>\n",
       "      <td>0.509109</td>\n",
       "    </tr>\n",
       "    <tr>\n",
       "      <th>Fare</th>\n",
       "      <td>0.178740</td>\n",
       "      <td>1.000000</td>\n",
       "      <td>0.221539</td>\n",
       "      <td>0.031428</td>\n",
       "      <td>-0.558629</td>\n",
       "      <td>-0.185523</td>\n",
       "      <td>0.160238</td>\n",
       "      <td>0.257307</td>\n",
       "      <td>0.029900</td>\n",
       "    </tr>\n",
       "    <tr>\n",
       "      <th>Parch</th>\n",
       "      <td>-0.150917</td>\n",
       "      <td>0.221539</td>\n",
       "      <td>1.000000</td>\n",
       "      <td>0.008942</td>\n",
       "      <td>0.018322</td>\n",
       "      <td>-0.213125</td>\n",
       "      <td>0.373587</td>\n",
       "      <td>0.081629</td>\n",
       "      <td>-0.088875</td>\n",
       "    </tr>\n",
       "    <tr>\n",
       "      <th>PassengerId</th>\n",
       "      <td>0.028814</td>\n",
       "      <td>0.031428</td>\n",
       "      <td>0.008942</td>\n",
       "      <td>1.000000</td>\n",
       "      <td>-0.038354</td>\n",
       "      <td>0.013406</td>\n",
       "      <td>-0.055224</td>\n",
       "      <td>-0.005007</td>\n",
       "      <td>0.039751</td>\n",
       "    </tr>\n",
       "    <tr>\n",
       "      <th>Pclass</th>\n",
       "      <td>-0.408106</td>\n",
       "      <td>-0.558629</td>\n",
       "      <td>0.018322</td>\n",
       "      <td>-0.038354</td>\n",
       "      <td>1.000000</td>\n",
       "      <td>0.124617</td>\n",
       "      <td>0.060832</td>\n",
       "      <td>-0.338481</td>\n",
       "      <td>-0.219885</td>\n",
       "    </tr>\n",
       "    <tr>\n",
       "      <th>Sex</th>\n",
       "      <td>0.063645</td>\n",
       "      <td>-0.185523</td>\n",
       "      <td>-0.213125</td>\n",
       "      <td>0.013406</td>\n",
       "      <td>0.124617</td>\n",
       "      <td>1.000000</td>\n",
       "      <td>-0.109609</td>\n",
       "      <td>-0.543351</td>\n",
       "      <td>0.014544</td>\n",
       "    </tr>\n",
       "    <tr>\n",
       "      <th>SibSp</th>\n",
       "      <td>-0.243699</td>\n",
       "      <td>0.160238</td>\n",
       "      <td>0.373587</td>\n",
       "      <td>-0.055224</td>\n",
       "      <td>0.060832</td>\n",
       "      <td>-0.109609</td>\n",
       "      <td>1.000000</td>\n",
       "      <td>-0.035322</td>\n",
       "      <td>-0.194396</td>\n",
       "    </tr>\n",
       "    <tr>\n",
       "      <th>Survived</th>\n",
       "      <td>-0.077221</td>\n",
       "      <td>0.257307</td>\n",
       "      <td>0.081629</td>\n",
       "      <td>-0.005007</td>\n",
       "      <td>-0.338481</td>\n",
       "      <td>-0.543351</td>\n",
       "      <td>-0.035322</td>\n",
       "      <td>1.000000</td>\n",
       "      <td>-0.058000</td>\n",
       "    </tr>\n",
       "    <tr>\n",
       "      <th>Title</th>\n",
       "      <td>0.509109</td>\n",
       "      <td>0.029900</td>\n",
       "      <td>-0.088875</td>\n",
       "      <td>0.039751</td>\n",
       "      <td>-0.219885</td>\n",
       "      <td>0.014544</td>\n",
       "      <td>-0.194396</td>\n",
       "      <td>-0.058000</td>\n",
       "      <td>1.000000</td>\n",
       "    </tr>\n",
       "  </tbody>\n",
       "</table>\n",
       "</div>"
      ],
      "text/plain": [
       "                  Age      Fare     Parch  PassengerId    Pclass       Sex  \\\n",
       "Age          1.000000  0.178740 -0.150917     0.028814 -0.408106  0.063645   \n",
       "Fare         0.178740  1.000000  0.221539     0.031428 -0.558629 -0.185523   \n",
       "Parch       -0.150917  0.221539  1.000000     0.008942  0.018322 -0.213125   \n",
       "PassengerId  0.028814  0.031428  0.008942     1.000000 -0.038354  0.013406   \n",
       "Pclass      -0.408106 -0.558629  0.018322    -0.038354  1.000000  0.124617   \n",
       "Sex          0.063645 -0.185523 -0.213125     0.013406  0.124617  1.000000   \n",
       "SibSp       -0.243699  0.160238  0.373587    -0.055224  0.060832 -0.109609   \n",
       "Survived    -0.077221  0.257307  0.081629    -0.005007 -0.338481 -0.543351   \n",
       "Title        0.509109  0.029900 -0.088875     0.039751 -0.219885  0.014544   \n",
       "\n",
       "                SibSp  Survived     Title  \n",
       "Age         -0.243699 -0.077221  0.509109  \n",
       "Fare         0.160238  0.257307  0.029900  \n",
       "Parch        0.373587  0.081629 -0.088875  \n",
       "PassengerId -0.055224 -0.005007  0.039751  \n",
       "Pclass       0.060832 -0.338481 -0.219885  \n",
       "Sex         -0.109609 -0.543351  0.014544  \n",
       "SibSp        1.000000 -0.035322 -0.194396  \n",
       "Survived    -0.035322  1.000000 -0.058000  \n",
       "Title       -0.194396 -0.058000  1.000000  "
      ]
     },
     "execution_count": 13,
     "metadata": {},
     "output_type": "execute_result"
    }
   ],
   "source": [
    "data.corr()"
   ]
  },
  {
   "cell_type": "markdown",
   "metadata": {},
   "source": [
    "- Age is most correlated with the Title feature. Let's use the title to fill in the missing ages"
   ]
  },
  {
   "cell_type": "code",
   "execution_count": null,
   "metadata": {},
   "outputs": [],
   "source": [
    "# fill in column with grouped mean of another column\n",
    "def fill_na_col(data, col_to_fill, group_col):\n",
    "    \n",
    "    grouped_mean = data.groupby(group_col).Age.mean()\n",
    "\n",
    "    col_filled = list()\n",
    "\n",
    "    for i in range(len(data)):\n",
    "    \n",
    "        if np.isnan(data.iloc[i][col_to_fill]):\n",
    "\n",
    "            col_filled.append(grouped_mean[data.iloc[i][group_col]])\n",
    "\n",
    "        else:\n",
    "\n",
    "            col_filled.append(data.iloc[i][col_to_fill])\n",
    "    \n",
    "    data[col_to_fill] = col_filled\n",
    "    \n",
    "    return data\n",
    "    \n",
    "data = fill_na_col(data = data, col_to_fill = \"Age\", group_col = \"Title\")"
   ]
  },
  {
   "cell_type": "markdown",
   "metadata": {},
   "source": [
    "### SibSp & Parch\n",
    "\n",
    "- **SibSp** is the number of siblings also aboard the titanic\n",
    "- **Parch** is the number of Parents/Children"
   ]
  },
  {
   "cell_type": "code",
   "execution_count": null,
   "metadata": {},
   "outputs": [
    {
     "name": "stdout",
     "output_type": "stream",
     "text": [
      "Parch\n",
      "0    1002\n",
      "1     170\n",
      "2     113\n",
      "3       8\n",
      "4       6\n",
      "5       6\n",
      "6       2\n",
      "9       2\n",
      "Name: Sex, dtype: int64\n",
      "SibSp\n",
      "0    891\n",
      "1    319\n",
      "2     42\n",
      "3     20\n",
      "4     22\n",
      "5      6\n",
      "8      9\n",
      "Name: Sex, dtype: int64\n"
     ]
    }
   ],
   "source": [
    "print(data.groupby(\"Parch\").Sex.count())\n",
    "print(data.groupby(\"SibSp\").Sex.count())"
   ]
  },
  {
   "cell_type": "code",
   "execution_count": null,
   "metadata": {},
   "outputs": [
    {
     "name": "stdout",
     "output_type": "stream",
     "text": [
      "Parch\n",
      "0     5.000000\n",
      "1     0.420000\n",
      "2     0.170000\n",
      "3    16.000000\n",
      "4    29.000000\n",
      "5    38.000000\n",
      "6    40.000000\n",
      "9    32.252151\n",
      "Name: Age, dtype: float64\n"
     ]
    }
   ],
   "source": [
    "# 1/2 are weighted by the children, since they have either 1/2 parents on board, as you can also see from the lower ages\n",
    "print(data.groupby(\"Parch\").Age.min()) "
   ]
  },
  {
   "cell_type": "code",
   "execution_count": null,
   "metadata": {},
   "outputs": [
    {
     "data": {
      "text/html": [
       "<div>\n",
       "<style scoped>\n",
       "    .dataframe tbody tr th:only-of-type {\n",
       "        vertical-align: middle;\n",
       "    }\n",
       "\n",
       "    .dataframe tbody tr th {\n",
       "        vertical-align: top;\n",
       "    }\n",
       "\n",
       "    .dataframe thead th {\n",
       "        text-align: right;\n",
       "    }\n",
       "</style>\n",
       "<table border=\"1\" class=\"dataframe\">\n",
       "  <thead>\n",
       "    <tr style=\"text-align: right;\">\n",
       "      <th></th>\n",
       "      <th>child</th>\n",
       "      <th>parent</th>\n",
       "      <th>single</th>\n",
       "      <th>Survived</th>\n",
       "    </tr>\n",
       "  </thead>\n",
       "  <tbody>\n",
       "    <tr>\n",
       "      <th>child</th>\n",
       "      <td>1.000000</td>\n",
       "      <td>-0.118887</td>\n",
       "      <td>-0.343796</td>\n",
       "      <td>0.136884</td>\n",
       "    </tr>\n",
       "    <tr>\n",
       "      <th>parent</th>\n",
       "      <td>-0.118887</td>\n",
       "      <td>1.000000</td>\n",
       "      <td>-0.455463</td>\n",
       "      <td>0.094018</td>\n",
       "    </tr>\n",
       "    <tr>\n",
       "      <th>single</th>\n",
       "      <td>-0.343796</td>\n",
       "      <td>-0.455463</td>\n",
       "      <td>1.000000</td>\n",
       "      <td>-0.203367</td>\n",
       "    </tr>\n",
       "    <tr>\n",
       "      <th>Survived</th>\n",
       "      <td>0.136884</td>\n",
       "      <td>0.094018</td>\n",
       "      <td>-0.203367</td>\n",
       "      <td>1.000000</td>\n",
       "    </tr>\n",
       "  </tbody>\n",
       "</table>\n",
       "</div>"
      ],
      "text/plain": [
       "             child    parent    single  Survived\n",
       "child     1.000000 -0.118887 -0.343796  0.136884\n",
       "parent   -0.118887  1.000000 -0.455463  0.094018\n",
       "single   -0.343796 -0.455463  1.000000 -0.203367\n",
       "Survived  0.136884  0.094018 -0.203367  1.000000"
      ]
     },
     "execution_count": 17,
     "metadata": {},
     "output_type": "execute_result"
    }
   ],
   "source": [
    "# Using both the Age and the Parch, let's reclassify these as child vs parents\n",
    "data[\"child\"] = data.apply(lambda row: 1 if (row.Age <= 15) and (row.Parch < 3) else 0, axis = 1)\n",
    "data[\"parent\"] = data.apply(lambda row: 1 if (row.Age >= 22) and (row.Parch > 0) else 0, axis = 1)\n",
    "data[\"single\"] = data.apply(lambda row: 1 if (row.SibSp + row.Parch) == 0 else 0, axis = 1)\n",
    "\n",
    "data[[\"child\", \"parent\", \"single\", \"Survived\"]].corr()"
   ]
  },
  {
   "cell_type": "markdown",
   "metadata": {},
   "source": [
    "### Pclass"
   ]
  },
  {
   "cell_type": "code",
   "execution_count": null,
   "metadata": {},
   "outputs": [
    {
     "data": {
      "text/plain": [
       "<matplotlib.axes._subplots.AxesSubplot at 0x1a24b64a58>"
      ]
     },
     "execution_count": 18,
     "metadata": {},
     "output_type": "execute_result"
    },
    {
     "data": {
      "image/png": "[encoded data removed]",
      "text/plain": [
       "<Figure size 720x432 with 1 Axes>"
      ]
     },
     "metadata": {
      "needs_background": "light"
     },
     "output_type": "display_data"
    }
   ],
   "source": [
    "plt.figure(figsize=(10, 6))\n",
    "sns.countplot(data[\"Pclass\"])"
   ]
  },
  {
   "cell_type": "markdown",
   "metadata": {},
   "source": [
    "### Fare"
   ]
  },
  {
   "cell_type": "code",
   "execution_count": null,
   "metadata": {},
   "outputs": [
    {
     "data": {
      "text/plain": [
       "<matplotlib.axes._subplots.AxesSubplot at 0x1a2486f940>"
      ]
     },
     "execution_count": 19,
     "metadata": {},
     "output_type": "execute_result"
    },
    {
     "data": {
      "image/png": "[encoded data removed]",
      "text/plain": [
       "<Figure size 576x432 with 1 Axes>"
      ]
     },
     "metadata": {
      "needs_background": "light"
     },
     "output_type": "display_data"
    }
   ],
   "source": [
    "plt.figure(figsize=(8, 6))\n",
    "sns.boxplot(data[\"Survived\"], data[\"Fare\"])"
   ]
  },
  {
   "cell_type": "code",
   "execution_count": null,
   "metadata": {},
   "outputs": [
    {
     "data": {
      "text/html": [
       "<div>\n",
       "<style scoped>\n",
       "    .dataframe tbody tr th:only-of-type {\n",
       "        vertical-align: middle;\n",
       "    }\n",
       "\n",
       "    .dataframe tbody tr th {\n",
       "        vertical-align: top;\n",
       "    }\n",
       "\n",
       "    .dataframe thead th {\n",
       "        text-align: right;\n",
       "    }\n",
       "</style>\n",
       "<table border=\"1\" class=\"dataframe\">\n",
       "  <thead>\n",
       "    <tr style=\"text-align: right;\">\n",
       "      <th></th>\n",
       "      <th>Age</th>\n",
       "      <th>Cabin</th>\n",
       "      <th>Embarked</th>\n",
       "      <th>Fare</th>\n",
       "      <th>Parch</th>\n",
       "      <th>PassengerId</th>\n",
       "      <th>Pclass</th>\n",
       "      <th>Sex</th>\n",
       "      <th>SibSp</th>\n",
       "      <th>Survived</th>\n",
       "      <th>Ticket</th>\n",
       "      <th>Title</th>\n",
       "      <th>child</th>\n",
       "      <th>parent</th>\n",
       "      <th>single</th>\n",
       "    </tr>\n",
       "  </thead>\n",
       "  <tbody>\n",
       "    <tr>\n",
       "      <th>1043</th>\n",
       "      <td>60.5</td>\n",
       "      <td>NaN</td>\n",
       "      <td>S</td>\n",
       "      <td>NaN</td>\n",
       "      <td>0</td>\n",
       "      <td>1044</td>\n",
       "      <td>3</td>\n",
       "      <td>1</td>\n",
       "      <td>0</td>\n",
       "      <td>NaN</td>\n",
       "      <td>3701</td>\n",
       "      <td>2</td>\n",
       "      <td>0</td>\n",
       "      <td>0</td>\n",
       "      <td>1</td>\n",
       "    </tr>\n",
       "  </tbody>\n",
       "</table>\n",
       "</div>"
      ],
      "text/plain": [
       "       Age Cabin Embarked  Fare  Parch  PassengerId  Pclass  Sex  SibSp  \\\n",
       "1043  60.5   NaN        S   NaN      0         1044       3    1      0   \n",
       "\n",
       "      Survived Ticket  Title  child  parent  single  \n",
       "1043       NaN   3701      2      0       0       1  "
      ]
     },
     "execution_count": 20,
     "metadata": {},
     "output_type": "execute_result"
    }
   ],
   "source": [
    "data[data[\"Fare\"].isna()] # missing row"
   ]
  },
  {
   "cell_type": "code",
   "execution_count": null,
   "metadata": {},
   "outputs": [],
   "source": [
    "# fill in the missing line with the mean of dependent on Pclass\n",
    "data[\"Fare\"] = data.apply(lambda row: data.groupby(\"Pclass\").Fare.mean()[row.Pclass] if np.isnan(row.Fare) else row.Fare, axis = 1)"
   ]
  },
  {
   "cell_type": "markdown",
   "metadata": {},
   "source": [
    "### Embarked"
   ]
  },
  {
   "cell_type": "code",
   "execution_count": null,
   "metadata": {},
   "outputs": [
    {
     "data": {
      "text/plain": [
       "<matplotlib.axes._subplots.AxesSubplot at 0x1a25197278>"
      ]
     },
     "execution_count": 22,
     "metadata": {},
     "output_type": "execute_result"
    },
    {
     "data": {
      "image/png": "[encoded data removed]",
      "text/plain": [
       "<Figure size 720x432 with 1 Axes>"
      ]
     },
     "metadata": {
      "needs_background": "light"
     },
     "output_type": "display_data"
    }
   ],
   "source": [
    "# S embarking seems to have detrimental effect on survival\n",
    "plt.figure(figsize=(10, 6))\n",
    "sns.countplot(x = \"Embarked\", data = data, hue = \"Survived\")"
   ]
  },
  {
   "cell_type": "code",
   "execution_count": null,
   "metadata": {},
   "outputs": [
    {
     "name": "stdout",
     "output_type": "stream",
     "text": [
      "Embarked\n",
      "C    62.336267\n",
      "Q    12.409012\n",
      "S    27.403380\n",
      "Name: Fare, dtype: float64\n"
     ]
    },
    {
     "data": {
      "text/plain": [
       "Embarked  Pclass\n",
       "C         1         141\n",
       "          2          28\n",
       "          3         101\n",
       "Q         1           3\n",
       "          2           7\n",
       "          3         113\n",
       "S         1         177\n",
       "          2         242\n",
       "          3         495\n",
       "Name: PassengerId, dtype: int64"
      ]
     },
     "execution_count": 23,
     "metadata": {},
     "output_type": "execute_result"
    }
   ],
   "source": [
    "# S is not the least expensive on average\n",
    "print(data.groupby(\"Embarked\").Fare.mean())\n",
    "data.groupby([\"Embarked\", \"Pclass\"]).PassengerId.count()"
   ]
  },
  {
   "cell_type": "code",
   "execution_count": null,
   "metadata": {},
   "outputs": [
    {
     "data": {
      "text/html": [
       "<div>\n",
       "<style scoped>\n",
       "    .dataframe tbody tr th:only-of-type {\n",
       "        vertical-align: middle;\n",
       "    }\n",
       "\n",
       "    .dataframe tbody tr th {\n",
       "        vertical-align: top;\n",
       "    }\n",
       "\n",
       "    .dataframe thead th {\n",
       "        text-align: right;\n",
       "    }\n",
       "</style>\n",
       "<table border=\"1\" class=\"dataframe\">\n",
       "  <thead>\n",
       "    <tr style=\"text-align: right;\">\n",
       "      <th></th>\n",
       "      <th>Age</th>\n",
       "      <th>Cabin</th>\n",
       "      <th>Embarked</th>\n",
       "      <th>Fare</th>\n",
       "      <th>Parch</th>\n",
       "      <th>PassengerId</th>\n",
       "      <th>Pclass</th>\n",
       "      <th>Sex</th>\n",
       "      <th>SibSp</th>\n",
       "      <th>Survived</th>\n",
       "      <th>Ticket</th>\n",
       "      <th>Title</th>\n",
       "      <th>child</th>\n",
       "      <th>parent</th>\n",
       "      <th>single</th>\n",
       "    </tr>\n",
       "  </thead>\n",
       "  <tbody>\n",
       "    <tr>\n",
       "      <th>61</th>\n",
       "      <td>38.0</td>\n",
       "      <td>B28</td>\n",
       "      <td>NaN</td>\n",
       "      <td>80.0</td>\n",
       "      <td>0</td>\n",
       "      <td>62</td>\n",
       "      <td>1</td>\n",
       "      <td>0</td>\n",
       "      <td>0</td>\n",
       "      <td>1.0</td>\n",
       "      <td>113572</td>\n",
       "      <td>1</td>\n",
       "      <td>0</td>\n",
       "      <td>0</td>\n",
       "      <td>1</td>\n",
       "    </tr>\n",
       "    <tr>\n",
       "      <th>829</th>\n",
       "      <td>62.0</td>\n",
       "      <td>B28</td>\n",
       "      <td>NaN</td>\n",
       "      <td>80.0</td>\n",
       "      <td>0</td>\n",
       "      <td>830</td>\n",
       "      <td>1</td>\n",
       "      <td>0</td>\n",
       "      <td>0</td>\n",
       "      <td>1.0</td>\n",
       "      <td>113572</td>\n",
       "      <td>3</td>\n",
       "      <td>0</td>\n",
       "      <td>0</td>\n",
       "      <td>1</td>\n",
       "    </tr>\n",
       "  </tbody>\n",
       "</table>\n",
       "</div>"
      ],
      "text/plain": [
       "      Age Cabin Embarked  Fare  Parch  PassengerId  Pclass  Sex  SibSp  \\\n",
       "61   38.0   B28      NaN  80.0      0           62       1    0      0   \n",
       "829  62.0   B28      NaN  80.0      0          830       1    0      0   \n",
       "\n",
       "     Survived  Ticket  Title  child  parent  single  \n",
       "61        1.0  113572      1      0       0       1  \n",
       "829       1.0  113572      3      0       0       1  "
      ]
     },
     "execution_count": 24,
     "metadata": {},
     "output_type": "execute_result"
    }
   ],
   "source": [
    "data[data.Embarked.isna()]"
   ]
  },
  {
   "cell_type": "code",
   "execution_count": null,
   "metadata": {},
   "outputs": [],
   "source": [
    "# Based on both Fare and class let's fill the NA's in with C's\n",
    "data.Embarked = data.Embarked.apply(lambda x: \"C\" if pd.isnull(x) else x)"
   ]
  },
  {
   "cell_type": "code",
   "execution_count": null,
   "metadata": {},
   "outputs": [],
   "source": [
    "# Make Embarked a dummy variable \n",
    "data = pd.concat([data, pd.get_dummies(data.Embarked)], axis = 1)\n",
    "data = data.drop(columns = \"Embarked\")"
   ]
  },
  {
   "cell_type": "markdown",
   "metadata": {},
   "source": [
    "### Ticket, Cabin\n",
    "\n",
    "- These variables look uninformative in terms of predicting survival.\n",
    "    - Ticket seems like it would require severe wrangling to obtain any patterns or ML processable data\n",
    "    - Cabin has many missing values"
   ]
  },
  {
   "cell_type": "code",
   "execution_count": null,
   "metadata": {},
   "outputs": [],
   "source": [
    "data = data.drop(columns = [\"Ticket\", \"Cabin\"])"
   ]
  },
  {
   "cell_type": "markdown",
   "metadata": {},
   "source": [
    "## Train ML model\n",
    "\n",
    "### Split data back into train/test/valid"
   ]
  },
  {
   "cell_type": "code",
   "execution_count": null,
   "metadata": {},
   "outputs": [],
   "source": [
    "# convert Age/Fare to min max of -1 to +1\n",
    "# in particular, the svm requires the features to be scaled\n",
    "data[[\"Age\", \"Fare\"]] = maxabs_scale(data[[\"Age\", \"Fare\"]])"
   ]
  },
  {
   "cell_type": "code",
   "execution_count": null,
   "metadata": {},
   "outputs": [],
   "source": [
    "# split data back into train and test \n",
    "train = data[data.Survived.notna()]\n",
    "train = train.drop(columns = \"PassengerId\")\n",
    "test = data[data.Survived.isna()]"
   ]
  },
  {
   "cell_type": "code",
   "execution_count": null,
   "metadata": {},
   "outputs": [
    {
     "name": "stdout",
     "output_type": "stream",
     "text": [
      "(712, 14)\n",
      "(179, 14)\n"
     ]
    }
   ],
   "source": [
    "# split the train into train and validation datasets \n",
    "# validation to get a local estimate of ML model performance\n",
    "train, valid = train_test_split(train, # DataFrame to split\n",
    "                                      test_size = 0.2, # proportion to split \n",
    "                                      random_state = 32) \n",
    "print(train.shape)\n",
    "print(valid.shape)"
   ]
  },
  {
   "cell_type": "markdown",
   "metadata": {},
   "source": [
    "### Ensembling\n",
    "\n",
    "- The idea of ensembling is to combine predictions from different ML models to improve the accuracy of the overall model. In fact, a random forest is already an ensemble of decision trees. \n",
    "- Let's practice ensembling together different ML methods. To try a boost the performance of the ML models by masking their invidual errors: \n",
    "    1. For comparison, train several machine learning models both with hyperparameter tuning and without. \n",
    "    2. Predict on validation dataset then evaluate these predictions\n",
    "    3. Use a ensemble based voting system to aggregate together the predictions "
   ]
  },
  {
   "cell_type": "code",
   "execution_count": null,
   "metadata": {},
   "outputs": [],
   "source": [
    "# initiate dictionatary of classifiers we would like to try\n",
    "ensemble = {\"lr\" : LogisticRegression(solver = \"lbfgs\"), \n",
    "            \"rf\" : RandomForestClassifier(n_estimators = 100), \n",
    "            \"svm\" : SVC(probability = True), \n",
    "            \"knn\": KNeighborsClassifier()}\n",
    "\n",
    "# generate a grid of hyperparamters to test for each model\n",
    "# honestly, the range of these parameters seems like a fumble in the dark\n",
    "# informed from online examples and from manual\n",
    "ensemble_random_grid = {\"lr\": {\"C\": [0.2, 0.4, 0.6, 0.8, 1], \n",
    "                              \"max_iter\": [1000, 10000]},\n",
    "                       \"rf\": {'n_estimators': [100, 250, 500],\n",
    "                              'max_features': [\"auto\", \"log2\"],\n",
    "                              'max_depth': [10, 25, 50, 100, None],\n",
    "                              'min_samples_split': [2, 5, 10],\n",
    "                              'min_samples_leaf': [1, 2, 4]}, \n",
    "                       \"svm\": {\"kernel\": [\"rbf\"], \n",
    "                               \"gamma\": [0.1, 1, 10, 100], \n",
    "                               \"C\": [0.1, 1, 10, 100, 1000]}, \n",
    "                       \"knn\": {\"n_neighbors\": list(range(2, 30, 2)), \n",
    "                              \"p\": [1, 2, 3, 4, 5]}}"
   ]
  },
  {
   "cell_type": "code",
   "execution_count": null,
   "metadata": {},
   "outputs": [
    {
     "name": "stdout",
     "output_type": "stream",
     "text": [
      "Training lr...\n",
      "Using hyperparamter grid...\n",
      "Training rf...\n",
      "Using hyperparamter grid...\n",
      "Training svm...\n",
      "Using hyperparamter grid...\n"
     ]
    }
   ],
   "source": [
    "def tune_ensemble(X, y, ensemble, ensemble_grid = None, n_jobs = 1, random_state = 32):\n",
    "    \n",
    "    \"\"\"For all ML models within the ensemble, does grid hyperparam tuning\n",
    "    based on params detailed in the accompanying grid\"\"\"\n",
    "    \n",
    "    ensemble_tuned = dict()\n",
    "\n",
    "    for clf in ensemble: \n",
    "\n",
    "        print(\"Training \" + clf +  \"...\")\n",
    "        \n",
    "        if ensemble_grid is None:\n",
    "            \n",
    "            ensemble[clf].fit(X = X, y = y, n_jobs = n_jobs, random_state = random_state)\n",
    "            \n",
    "            ensemble_tuned[clf] = ensemble[clf]\n",
    "        \n",
    "        else: \n",
    "            \n",
    "            print(\"Using hyperparamter grid...\")\n",
    "            \n",
    "            clf_random = GridSearchCV(estimator = ensemble[clf], \n",
    "                                      param_grid = ensemble_grid[clf], \n",
    "                                      cv = 5, \n",
    "                                      n_jobs = n_jobs)\n",
    "\n",
    "            clf_random.fit(X = X, y = y)\n",
    "\n",
    "            ensemble_tuned[clf] = clf_random\n",
    "            \n",
    "    return ensemble_tuned\n",
    "\n",
    "ensemble_tuned = tune_ensemble(X = train.drop(columns = \"Survived\"), \n",
    "                                y = train[\"Survived\"], \n",
    "                                ensemble = ensemble, \n",
    "                                ensemble_grid = ensemble_random_grid, \n",
    "                                n_jobs = 4) \n"
   ]
  },
  {
   "cell_type": "code",
   "execution_count": null,
   "metadata": {},
   "outputs": [],
   "source": [
    "def pred_ensemble(X, ensemble_tuned):\n",
    "    \n",
    "    \"\"\"Obtains a pandas dataframe of predictions from each ML model within the ensemble\"\"\"\n",
    "    \n",
    "    preds = dict()\n",
    "    preds_prob = dict()\n",
    "    \n",
    "    for clf in ensemble_tuned:\n",
    "    \n",
    "        preds[clf + \"_pred\"] = ensemble_tuned[clf].predict(X = X)\n",
    "        preds_prob[clf + \"_prob\"] = [class_proba[1] for class_proba in ensemble_tuned[clf].predict_proba(X = X)]\n",
    "    \n",
    "    ensemble_pred_probs = pd.concat([pd.DataFrame(preds), pd.DataFrame(preds_prob)], axis = 1)\n",
    "        \n",
    "    return ensemble_pred_probs\n",
    "\n",
    "def vote_ensemble(ensemble_pred_probs):\n",
    "    \n",
    "    \"\"\"Does a mode based (highest class frequency) and average based (mean of the prediction \n",
    "    probabilities then applied 0.5 threshold) vote to obtain the ensemble predictions\"\"\"\n",
    "    \n",
    "    pred_cols = [(\"pred\" in col) for col in ensemble_pred_probs.columns]\n",
    "\n",
    "    ensemble_pred_probs[\"mode_pred\"] = ensemble_pred_probs[ensemble_pred_probs.columns[pred_cols]].\\\n",
    "    apply(lambda row: stats.mode(row)[0][0], axis = 1)\n",
    "    \n",
    "    pred_proba_cols = [(\"prob\" in col) for col in ensemble_pred_probs.columns]\n",
    "    \n",
    "    ensemble_pred_probs[\"average_prob\"] = ensemble_pred_probs[ensemble_pred_probs.columns[pred_proba_cols]].\\\n",
    "    apply(lambda row: np.mean(row), axis = 1)\n",
    "    ensemble_pred_probs[\"average_pred\"] = ensemble_pred_probs[\"average_prob\"].apply(lambda x: 1.0 if x >= 0.5 else 0.0)\n",
    "    \n",
    "    return ensemble_pred_probs\n",
    "\n",
    "ensemble_pred_probs = pred_ensemble(X = valid.drop(columns = \"Survived\"), \n",
    "                                    ensemble_tuned = ensemble_tuned)\n",
    "\n",
    "ensemble_pred_probs = vote_ensemble(ensemble_pred_probs)\n",
    "\n",
    "ensemble_pred_probs.head()"
   ]
  },
  {
   "cell_type": "markdown",
   "metadata": {},
   "source": [
    "- Some of the models in the ensemble have highly correlated predictions. There may be potential to improve accuracy of ensemble predictions by dropping models that are highly correlated or weighting the votes, but it's not something I will play with here. "
   ]
  },
  {
   "cell_type": "code",
   "execution_count": null,
   "metadata": {},
   "outputs": [],
   "source": [
    "pred_cols = [col for col in ensemble_pred_probs.columns if \"pred\" in col]\n",
    "\n",
    "plt.figure(figsize=(10, 8))\n",
    "sns.heatmap(ensemble_pred_probs[pred_cols].corr(\"pearson\"), \n",
    "            cmap = \"RdBu\", \n",
    "            annot = True)\n",
    "\n",
    "def eval_ensemble(y, ensemble_preds):\n",
    "    \n",
    "    \"\"\"Gets pandas df of the evaluative metrics of all models within the ensemble\"\"\"\n",
    "    \n",
    "    ensemble_eval = {\"metric\" : [\"accuracy\", \"precision\", \"recall\", \"f1\", \"ROC_auc\"]}\n",
    "\n",
    "    for col in ensemble_preds.columns:\n",
    "        \n",
    "        metrics_per_pred = [metrics.accuracy_score(y, ensemble_preds[col]),\n",
    "                            metrics.precision_score(y, ensemble_preds[col]), \n",
    "                            metrics.recall_score(y, ensemble_preds[col]), \n",
    "                            metrics.f1_score(y, ensemble_preds[col]), \n",
    "                            metrics.roc_auc_score(y, ensemble_preds[col])]\n",
    "        \n",
    "        ensemble_eval[col + \"_eval\"] = metrics_per_pred\n",
    "        \n",
    "    ensemble_eval = pd.DataFrame(ensemble_eval)\n",
    "    \n",
    "    return ensemble_eval\n",
    "\n",
    "ensemble_eval = eval_ensemble(y = valid[\"Survived\"], ensemble_preds = ensemble_pred_probs[pred_cols])\n",
    "ensemble_eval"
   ]
  },
  {
   "cell_type": "markdown",
   "metadata": {},
   "source": [
    "- The ensemble predictions have an improved precision at the cost of a marginally decreased recall. We are predicted less \"1\"s though have increased confidence in those that we do predict."
   ]
  },
  {
   "cell_type": "markdown",
   "metadata": {},
   "source": [
    "### Predict on test data"
   ]
  },
  {
   "cell_type": "code",
   "execution_count": null,
   "metadata": {},
   "outputs": [],
   "source": [
    "# get predictions for test set to submit on kaggle\n",
    "ensemble_pred_probs_test = pred_ensemble(X = test.drop(columns = [\"PassengerId\", \"Survived\"]), \n",
    "                                         ensemble_tuned = ensemble_tuned)\n",
    "ensemble_pred_probs_test = vote_ensemble(ensemble_pred_probs_test)\n",
    "\n",
    "test[\"Survived\"] = ensemble_pred_probs_test[\"mode_pred\"].astype(int).values\n",
    "test[[\"PassengerId\", \"Survived\"]].\\\n",
    "to_csv(\"/Users/DZ_laptop/Dropbox/DZ_Work/kaggle/getting_started_kaggle/titanic/results/titanic_preds.csv\", index = False)\n",
    "\n",
    "!kaggle competitions submit -c titanic -f \\\n",
    "/Users/DZ_laptop/Dropbox/DZ_Work/kaggle/getting_started_kaggle/titanic/results/titanic_preds.csv -m \"ensemble - mode vote\""
   ]
  }
 ],
 "metadata": {
  "kernelspec": {
   "display_name": "Python 3",
   "language": "python",
   "name": "python3"
  },
  "language_info": {
   "codemirror_mode": {
    "name": "ipython",
    "version": 3
   },
   "file_extension": ".py",
   "mimetype": "text/x-python",
   "name": "python",
   "nbconvert_exporter": "python",
   "pygments_lexer": "ipython3",
   "version": "3.7.3"
  }
 },
 "nbformat": 4,
 "nbformat_minor": 2
}
