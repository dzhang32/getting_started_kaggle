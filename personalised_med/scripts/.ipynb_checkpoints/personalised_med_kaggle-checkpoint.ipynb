{
 "cells": [
  {
   "cell_type": "markdown",
   "metadata": {},
   "source": [
    "# Classifying cancer variants \n",
    "\n",
    "> The aim of this is to practice some python, ML and hopefully NLP skills \n",
    "\n",
    "- The workflow of the notebook: \n",
    "\n",
    "    1. Data exploration\n",
    "    2. Feature engineering\n",
    "    3. Predict variant classification\n",
    "    4. Evaluate predictions\n",
    "\n",
    "## Data exploration"
   ]
  },
  {
   "cell_type": "code",
   "execution_count": 228,
   "metadata": {},
   "outputs": [
    {
     "name": "stdout",
     "output_type": "stream",
     "text": [
      "The autotime extension is already loaded. To reload it, use:\n",
      "  %reload_ext autotime\n",
      "time: 6.02 ms\n"
     ]
    }
   ],
   "source": [
    "import os\n",
    "\n",
    "import numpy as np\n",
    "import pandas as pd\n",
    "\n",
    "# parrallel pandas\n",
    "from pandarallel import pandarallel\n",
    "\n",
    "import torch\n",
    "import transformers as ppb \n",
    "\n",
    "from sklearn.model_selection import train_test_split\n",
    "from sklearn.ensemble import RandomForestClassifier\n",
    "from sklearn.model_selection import GridSearchCV\n",
    "from sklearn.model_selection import RandomizedSearchCV\n",
    "\n",
    "from sklearn import metrics\n",
    "\n",
    "import seaborn as sns\n",
    "import matplotlib.pyplot as plt\n",
    "\n",
    "%load_ext autotime"
   ]
  },
  {
   "cell_type": "code",
   "execution_count": 3,
   "metadata": {},
   "outputs": [
    {
     "name": "stdout",
     "output_type": "stream",
     "text": [
      "time: 7.04 s\n"
     ]
    }
   ],
   "source": [
    "os.chdir(\"/data/kaggling/personalised_med/\")\n",
    "\n",
    "train_var = pd.read_csv(\"raw_data/msk-redefining-cancer-treatment/training_variants.zip\")\n",
    "train_text = pd.read_csv(\"raw_data/msk-redefining-cancer-treatment/training_text.zip\", \n",
    "                         skiprows = 1, sep = \"\\|\\|\", header = None, names = [\"ID\", \"Text\"], engine = 'python')\n",
    "\n",
    "test_var = pd.read_csv(\"raw_data/msk-redefining-cancer-treatment/test_variants.zip\")\n",
    "test_text = pd.read_csv(\"raw_data/msk-redefining-cancer-treatment/test_text.zip\", \n",
    "                        skiprows = 1, sep = \"\\|\\|\", header = None, names = [\"ID\", \"Text\"], engine = 'python')"
   ]
  },
  {
   "cell_type": "code",
   "execution_count": 4,
   "metadata": {},
   "outputs": [
    {
     "name": "stdout",
     "output_type": "stream",
     "text": [
      "time: 27.2 ms\n"
     ]
    }
   ],
   "source": [
    "# join variant and abstract data\n",
    "train_df = pd.merge(train_var, train_text)\n",
    "test_df = pd.merge(test_var, test_text)"
   ]
  },
  {
   "cell_type": "code",
   "execution_count": 5,
   "metadata": {},
   "outputs": [
    {
     "name": "stdout",
     "output_type": "stream",
     "text": [
      "time: 7.58 ms\n"
     ]
    }
   ],
   "source": [
    "# remove NA abstracts\n",
    "train_df = train_df[train_df[\"Text\"].notna()].reset_index()"
   ]
  },
  {
   "cell_type": "code",
   "execution_count": 6,
   "metadata": {},
   "outputs": [
    {
     "name": "stdout",
     "output_type": "stream",
     "text": [
      "(3316, 6)\n"
     ]
    },
    {
     "data": {
      "text/plain": [
       "(5668, 4)"
      ]
     },
     "execution_count": 6,
     "metadata": {},
     "output_type": "execute_result"
    },
    {
     "name": "stdout",
     "output_type": "stream",
     "text": [
      "time: 6.06 ms\n"
     ]
    }
   ],
   "source": [
    "print(train_df.shape)\n",
    "test_df.shape"
   ]
  },
  {
   "cell_type": "markdown",
   "metadata": {},
   "source": [
    "# Feature engineering\n",
    "\n",
    "- Let's split this into 2 separate parts, firstly classifying the variant based on the genic information and the secondly, extracting information from the abstract. \n",
    "\n",
    "    1. Classifying cancergencity of variant.\n",
    "            a. Look for existing algorithms that do the job (Take info and gene and variant and predict severity/pathogenicity)\n",
    "            b. Apply these - VEP/ANNOVAR?\n",
    "    2. Mining information from abstracts. \n",
    "            a. Simple baseline model: clean text, take the most frequent x number of words then tokenise. \n",
    "            b. Does the journal have predictive power? \n",
    "            c. BERT"
   ]
  },
  {
   "cell_type": "markdown",
   "metadata": {},
   "source": [
    "## BERT\n",
    "\n",
    "- BERT (Bidirectional Encoder Representations from Transformers) is a technique that google made that has been pre-trained on a huge amount of text data (corpus) and allows for context dependent encoding of sentences and text. \n",
    "- A great simple implementation can be found http://jalammar.github.io/a-visual-guide-to-using-bert-for-the-first-time/ / https://github.com/jalammar/jalammar.github.io/blob/master/notebooks/bert/A_Visual_Notebook_to_Using_BERT_for_the_First_Time.ipynb"
   ]
  },
  {
   "cell_type": "code",
   "execution_count": 7,
   "metadata": {},
   "outputs": [
    {
     "name": "stdout",
     "output_type": "stream",
     "text": [
      "time: 18.3 s\n"
     ]
    }
   ],
   "source": [
    "# For DistilBERT (a smaller, faster younger brother of BERT):\n",
    "model_class, tokenizer_class, pretrained_weights = (ppb.DistilBertModel, ppb.DistilBertTokenizer, 'distilbert-base-uncased')\n",
    "\n",
    "## Want BERT instead of distilBERT? Uncomment the following line:\n",
    "#model_class, tokenizer_class, pretrained_weights = (ppb.BertModel, ppb.BertTokenizer, 'bert-base-uncased')\n",
    "\n",
    "# Load pretrained model/tokenizer\n",
    "tokenizer = tokenizer_class.from_pretrained(pretrained_weights)\n",
    "model = model_class.from_pretrained(pretrained_weights)"
   ]
  },
  {
   "cell_type": "markdown",
   "metadata": {},
   "source": [
    "- One big issue faced is that BERT currently only operates on small sentences/paragraphs (each only 512 tokens in length). \n",
    "- This doesn't yet seem to be resolved by the BERT team and looks like it's due to the way BERT's been trained. \n",
    "- There's some potential solutions here https://stackoverflow.com/questions/58636587/how-to-use-bert-for-long-text-classification / https://github.com/google-research/bert/issues/66\n",
    "- But for now, let's try by truncating the abstract to it's first 512 tokens. "
   ]
  },
  {
   "cell_type": "code",
   "execution_count": 8,
   "metadata": {
    "scrolled": true
   },
   "outputs": [
    {
     "name": "stdout",
     "output_type": "stream",
     "text": [
      "INFO: Pandarallel will run on 80 workers.\n",
      "INFO: Pandarallel will use Memory file system to transfer data between the main process and workers.\n"
     ]
    },
    {
     "data": {
      "application/vnd.jupyter.widget-view+json": {
       "model_id": "e8c9ecac18b948778251d1c7c8afee6b",
       "version_major": 2,
       "version_minor": 0
      },
      "text/plain": [
       "VBox(children=(HBox(children=(IntProgress(value=0, description='0.00%', max=42), Label(value='0 / 42'))), HBox…"
      ]
     },
     "metadata": {},
     "output_type": "display_data"
    },
    {
     "name": "stdout",
     "output_type": "stream",
     "text": [
      "time: 5min 5s\n"
     ]
    }
   ],
   "source": [
    "# tokenise the text\n",
    "# take 1 minute for tokenising 50 abstracts without parrallelisation\n",
    "# takes X for tokenising all with parrallelisation over 80 cores\n",
    "pandarallel.initialize(nb_workers  = 60, \n",
    "                       progress_bar = False)\n",
    "\n",
    "tokenised = train_df[\"Text\"].\\\n",
    "parallel_apply(lambda x: tokenizer.encode(x, add_special_tokens = True, max_length = 512))"
   ]
  },
  {
   "cell_type": "code",
   "execution_count": 29,
   "metadata": {},
   "outputs": [
    {
     "name": "stdout",
     "output_type": "stream",
     "text": [
      "True\n",
      "True\n",
      "True\n",
      "time: 12.7 s\n"
     ]
    }
   ],
   "source": [
    "# has this changed the order? Let's manually check few entries\n",
    "for i in [0, 100, (len(train_df) - 1)]: \n",
    "    \n",
    "    x = tokenizer.encode(train_df[\"Text\"][i], add_special_tokens = True, max_length = 512)\n",
    "    y = tokenised[i]\n",
    "    \n",
    "    # can check if 2 lists are equal using \"==\"\n",
    "    print(x == y)"
   ]
  },
  {
   "cell_type": "code",
   "execution_count": 28,
   "metadata": {},
   "outputs": [
    {
     "name": "stdout",
     "output_type": "stream",
     "text": [
      "(3316,)\n"
     ]
    },
    {
     "data": {
      "text/plain": [
       "1    [101, 10061, 4281, 2512, 1011, 2235, 3526, 111...\n",
       "2    [101, 10061, 4281, 2512, 1011, 2235, 3526, 111...\n",
       "3    [101, 3522, 3350, 2038, 7645, 2008, 3734, 4895...\n",
       "4    [101, 2006, 3597, 16505, 14494, 1999, 1996, 18...\n",
       "Name: Text, dtype: object"
      ]
     },
     "execution_count": 28,
     "metadata": {},
     "output_type": "execute_result"
    },
    {
     "name": "stdout",
     "output_type": "stream",
     "text": [
      "time: 16 ms\n"
     ]
    }
   ],
   "source": [
    "# now each abstract is a vector with each word/punc encoded into a token\n",
    "print(tokenised.shape)\n",
    "tokenised[1:5]"
   ]
  },
  {
   "cell_type": "code",
   "execution_count": 30,
   "metadata": {},
   "outputs": [
    {
     "name": "stdout",
     "output_type": "stream",
     "text": [
      "(3316, 512)\n"
     ]
    },
    {
     "data": {
      "text/plain": [
       "array([[  101, 22330, 20464, ...,  2070,  4442,   102],\n",
       "       [  101, 10061,  4281, ...,  1012,  2004,   102],\n",
       "       [  101, 10061,  4281, ...,  1012,  2004,   102],\n",
       "       [  101,  3522,  3350, ...,  2029,  2265,   102],\n",
       "       [  101,  2006,  3597, ...,  2024,  7356,   102]])"
      ]
     },
     "execution_count": 30,
     "metadata": {},
     "output_type": "execute_result"
    },
    {
     "name": "stdout",
     "output_type": "stream",
     "text": [
      "time: 335 ms\n"
     ]
    }
   ],
   "source": [
    "# pad up the tokens into a 2d matrix ready for input into tensor\n",
    "# padding means to add 0s to the end of each vector so they're all the same length\n",
    "max_len = 0\n",
    "for i in tokenised.values:\n",
    "    if len(i) > max_len:\n",
    "        max_len = len(i)\n",
    "\n",
    "# beautiful list comphehension for adding 0's up to the max length \n",
    "padded = np.array([i + [0]*(max_len-len(i)) for i in tokenised.values])\n",
    "\n",
    "print(padded.shape)\n",
    "padded[0:5]"
   ]
  },
  {
   "cell_type": "code",
   "execution_count": 31,
   "metadata": {},
   "outputs": [
    {
     "data": {
      "text/plain": [
       "array([[1, 1, 1, ..., 1, 1, 1],\n",
       "       [1, 1, 1, ..., 1, 1, 1],\n",
       "       [1, 1, 1, ..., 1, 1, 1],\n",
       "       [1, 1, 1, ..., 1, 1, 1],\n",
       "       [1, 1, 1, ..., 1, 1, 1]])"
      ]
     },
     "execution_count": 31,
     "metadata": {},
     "output_type": "execute_result"
    },
    {
     "name": "stdout",
     "output_type": "stream",
     "text": [
      "time: 20.1 ms\n"
     ]
    }
   ],
   "source": [
    "# then we have to tell BERT to ignore the areas in which we've padded \n",
    "attention_mask = np.where(padded != 0, 1, 0)\n",
    "attention_mask[0:5]"
   ]
  },
  {
   "cell_type": "code",
   "execution_count": 37,
   "metadata": {},
   "outputs": [
    {
     "name": "stdout",
     "output_type": "stream",
     "text": [
      "time: 7min 46s\n"
     ]
    }
   ],
   "source": [
    "# apparantly these functions construct a tensor - no idea, read up later\n",
    "# looks much quicker on server than my local, internal multithreading??\n",
    "input_ids = torch.tensor(padded)  \n",
    "attention_mask = torch.tensor(attention_mask)\n",
    "\n",
    "with torch.no_grad():\n",
    "    last_hidden_states = model(input_ids, attention_mask = attention_mask)"
   ]
  },
  {
   "cell_type": "code",
   "execution_count": 99,
   "metadata": {},
   "outputs": [
    {
     "name": "stdout",
     "output_type": "stream",
     "text": [
      "(3316, 768)\n"
     ]
    },
    {
     "data": {
      "text/html": [
       "<div>\n",
       "<style scoped>\n",
       "    .dataframe tbody tr th:only-of-type {\n",
       "        vertical-align: middle;\n",
       "    }\n",
       "\n",
       "    .dataframe tbody tr th {\n",
       "        vertical-align: top;\n",
       "    }\n",
       "\n",
       "    .dataframe thead th {\n",
       "        text-align: right;\n",
       "    }\n",
       "</style>\n",
       "<table border=\"1\" class=\"dataframe\">\n",
       "  <thead>\n",
       "    <tr style=\"text-align: right;\">\n",
       "      <th></th>\n",
       "      <th>X0</th>\n",
       "      <th>X1</th>\n",
       "      <th>X2</th>\n",
       "      <th>X3</th>\n",
       "      <th>X4</th>\n",
       "      <th>X5</th>\n",
       "      <th>X6</th>\n",
       "      <th>X7</th>\n",
       "      <th>X8</th>\n",
       "      <th>X9</th>\n",
       "      <th>...</th>\n",
       "      <th>X758</th>\n",
       "      <th>X759</th>\n",
       "      <th>X760</th>\n",
       "      <th>X761</th>\n",
       "      <th>X762</th>\n",
       "      <th>X763</th>\n",
       "      <th>X764</th>\n",
       "      <th>X765</th>\n",
       "      <th>X766</th>\n",
       "      <th>X767</th>\n",
       "    </tr>\n",
       "  </thead>\n",
       "  <tbody>\n",
       "    <tr>\n",
       "      <th>0</th>\n",
       "      <td>-0.357481</td>\n",
       "      <td>-0.017413</td>\n",
       "      <td>-0.159776</td>\n",
       "      <td>-0.092079</td>\n",
       "      <td>0.096843</td>\n",
       "      <td>-0.220848</td>\n",
       "      <td>0.316619</td>\n",
       "      <td>-0.217302</td>\n",
       "      <td>-0.070082</td>\n",
       "      <td>-0.106983</td>\n",
       "      <td>...</td>\n",
       "      <td>0.176891</td>\n",
       "      <td>-0.149806</td>\n",
       "      <td>-0.203046</td>\n",
       "      <td>0.020054</td>\n",
       "      <td>0.018851</td>\n",
       "      <td>0.041817</td>\n",
       "      <td>-0.059973</td>\n",
       "      <td>-0.111114</td>\n",
       "      <td>0.350028</td>\n",
       "      <td>0.428829</td>\n",
       "    </tr>\n",
       "    <tr>\n",
       "      <th>1</th>\n",
       "      <td>-0.444488</td>\n",
       "      <td>-0.153175</td>\n",
       "      <td>-0.356332</td>\n",
       "      <td>-0.072857</td>\n",
       "      <td>0.126543</td>\n",
       "      <td>0.060627</td>\n",
       "      <td>0.084730</td>\n",
       "      <td>-0.122758</td>\n",
       "      <td>-0.094950</td>\n",
       "      <td>-0.253415</td>\n",
       "      <td>...</td>\n",
       "      <td>0.080443</td>\n",
       "      <td>-0.110614</td>\n",
       "      <td>-0.081563</td>\n",
       "      <td>-0.023074</td>\n",
       "      <td>-0.093389</td>\n",
       "      <td>0.148436</td>\n",
       "      <td>-0.160686</td>\n",
       "      <td>-0.218967</td>\n",
       "      <td>0.379110</td>\n",
       "      <td>0.542377</td>\n",
       "    </tr>\n",
       "    <tr>\n",
       "      <th>2</th>\n",
       "      <td>-0.444488</td>\n",
       "      <td>-0.153175</td>\n",
       "      <td>-0.356332</td>\n",
       "      <td>-0.072857</td>\n",
       "      <td>0.126543</td>\n",
       "      <td>0.060627</td>\n",
       "      <td>0.084730</td>\n",
       "      <td>-0.122758</td>\n",
       "      <td>-0.094950</td>\n",
       "      <td>-0.253415</td>\n",
       "      <td>...</td>\n",
       "      <td>0.080443</td>\n",
       "      <td>-0.110614</td>\n",
       "      <td>-0.081563</td>\n",
       "      <td>-0.023074</td>\n",
       "      <td>-0.093389</td>\n",
       "      <td>0.148436</td>\n",
       "      <td>-0.160686</td>\n",
       "      <td>-0.218967</td>\n",
       "      <td>0.379110</td>\n",
       "      <td>0.542377</td>\n",
       "    </tr>\n",
       "    <tr>\n",
       "      <th>3</th>\n",
       "      <td>-0.332727</td>\n",
       "      <td>-0.146111</td>\n",
       "      <td>-0.344226</td>\n",
       "      <td>-0.042260</td>\n",
       "      <td>0.342653</td>\n",
       "      <td>-0.000134</td>\n",
       "      <td>0.315199</td>\n",
       "      <td>-0.176562</td>\n",
       "      <td>0.016619</td>\n",
       "      <td>-0.137244</td>\n",
       "      <td>...</td>\n",
       "      <td>-0.005574</td>\n",
       "      <td>-0.060333</td>\n",
       "      <td>-0.152024</td>\n",
       "      <td>-0.100370</td>\n",
       "      <td>-0.093741</td>\n",
       "      <td>0.026119</td>\n",
       "      <td>-0.231168</td>\n",
       "      <td>-0.185014</td>\n",
       "      <td>0.392335</td>\n",
       "      <td>0.417319</td>\n",
       "    </tr>\n",
       "    <tr>\n",
       "      <th>4</th>\n",
       "      <td>-0.399492</td>\n",
       "      <td>-0.079763</td>\n",
       "      <td>-0.396400</td>\n",
       "      <td>-0.042757</td>\n",
       "      <td>0.273814</td>\n",
       "      <td>-0.035057</td>\n",
       "      <td>0.286812</td>\n",
       "      <td>-0.238444</td>\n",
       "      <td>0.021866</td>\n",
       "      <td>-0.242645</td>\n",
       "      <td>...</td>\n",
       "      <td>0.106880</td>\n",
       "      <td>-0.131835</td>\n",
       "      <td>-0.105780</td>\n",
       "      <td>-0.108750</td>\n",
       "      <td>-0.119301</td>\n",
       "      <td>-0.002419</td>\n",
       "      <td>-0.116512</td>\n",
       "      <td>-0.274350</td>\n",
       "      <td>0.443917</td>\n",
       "      <td>0.457941</td>\n",
       "    </tr>\n",
       "  </tbody>\n",
       "</table>\n",
       "<p>5 rows × 768 columns</p>\n",
       "</div>"
      ],
      "text/plain": [
       "         X0        X1        X2        X3        X4        X5        X6  \\\n",
       "0 -0.357481 -0.017413 -0.159776 -0.092079  0.096843 -0.220848  0.316619   \n",
       "1 -0.444488 -0.153175 -0.356332 -0.072857  0.126543  0.060627  0.084730   \n",
       "2 -0.444488 -0.153175 -0.356332 -0.072857  0.126543  0.060627  0.084730   \n",
       "3 -0.332727 -0.146111 -0.344226 -0.042260  0.342653 -0.000134  0.315199   \n",
       "4 -0.399492 -0.079763 -0.396400 -0.042757  0.273814 -0.035057  0.286812   \n",
       "\n",
       "         X7        X8        X9  ...      X758      X759      X760      X761  \\\n",
       "0 -0.217302 -0.070082 -0.106983  ...  0.176891 -0.149806 -0.203046  0.020054   \n",
       "1 -0.122758 -0.094950 -0.253415  ...  0.080443 -0.110614 -0.081563 -0.023074   \n",
       "2 -0.122758 -0.094950 -0.253415  ...  0.080443 -0.110614 -0.081563 -0.023074   \n",
       "3 -0.176562  0.016619 -0.137244  ... -0.005574 -0.060333 -0.152024 -0.100370   \n",
       "4 -0.238444  0.021866 -0.242645  ...  0.106880 -0.131835 -0.105780 -0.108750   \n",
       "\n",
       "       X762      X763      X764      X765      X766      X767  \n",
       "0  0.018851  0.041817 -0.059973 -0.111114  0.350028  0.428829  \n",
       "1 -0.093389  0.148436 -0.160686 -0.218967  0.379110  0.542377  \n",
       "2 -0.093389  0.148436 -0.160686 -0.218967  0.379110  0.542377  \n",
       "3 -0.093741  0.026119 -0.231168 -0.185014  0.392335  0.417319  \n",
       "4 -0.119301 -0.002419 -0.116512 -0.274350  0.443917  0.457941  \n",
       "\n",
       "[5 rows x 768 columns]"
      ]
     },
     "execution_count": 99,
     "metadata": {},
     "output_type": "execute_result"
    },
    {
     "name": "stdout",
     "output_type": "stream",
     "text": [
      "time: 40.5 ms\n"
     ]
    }
   ],
   "source": [
    "# extract the feature we actually need...\n",
    "# last_hidden_states is some 3d tuble, we basically want the first col \n",
    "features = last_hidden_states[0][:,0,:].numpy()\n",
    "features = pd.DataFrame(features, \n",
    "                        columns = [\"X\" + str(i) for i in range(features.shape[1])])\n",
    "\n",
    "print(features.shape)\n",
    "features.iloc[range(5)]"
   ]
  },
  {
   "cell_type": "code",
   "execution_count": 100,
   "metadata": {},
   "outputs": [
    {
     "name": "stdout",
     "output_type": "stream",
     "text": [
      "time: 4.61 s\n"
     ]
    }
   ],
   "source": [
    "train_df_tidy = pd.concat([train_df[[\"Class\"]], features], axis = 1)\n",
    "train_df_tidy.head()\n",
    "\n",
    "train_df_tidy.to_csv(\"/home/dzhang/misc_projects/kaggling/personalised_med/results/train_df_BERT_encoded.csv\")"
   ]
  },
  {
   "cell_type": "markdown",
   "metadata": {},
   "source": [
    "# Predict variant classification"
   ]
  },
  {
   "cell_type": "code",
   "execution_count": 101,
   "metadata": {},
   "outputs": [
    {
     "name": "stdout",
     "output_type": "stream",
     "text": [
      "(2652, 769)\n",
      "(664, 769)\n",
      "time: 19.1 ms\n"
     ]
    }
   ],
   "source": [
    "train, valid = train_test_split(train_df_tidy, # DataFrame to split\n",
    "                                test_size = 0.2, # proportion to split \n",
    "                                random_state = 32) \n",
    "print(train.shape)\n",
    "print(valid.shape)"
   ]
  },
  {
   "cell_type": "code",
   "execution_count": 234,
   "metadata": {},
   "outputs": [
    {
     "data": {
      "text/plain": [
       "GridSearchCV(cv=5, error_score='raise-deprecating',\n",
       "             estimator=RandomForestClassifier(bootstrap=True, class_weight=None,\n",
       "                                              criterion='gini', max_depth=None,\n",
       "                                              max_features='auto',\n",
       "                                              max_leaf_nodes=None,\n",
       "                                              min_impurity_decrease=0.0,\n",
       "                                              min_impurity_split=None,\n",
       "                                              min_samples_leaf=1,\n",
       "                                              min_samples_split=2,\n",
       "                                              min_weight_fraction_leaf=0.0,\n",
       "                                              n_estimators='warn', n_jobs=30,\n",
       "                                              oob_score=False, random_state=32,\n",
       "                                              verbose=0, warm_start=False),\n",
       "             iid='warn', n_jobs=30,\n",
       "             param_grid={'max_depth': [10, 25, 100], 'max_features': ['auto'],\n",
       "                         'min_samples_leaf': [1, 2, 4],\n",
       "                         'min_samples_split': [2, 5, 10],\n",
       "                         'n_estimators': [100, 250]},\n",
       "             pre_dispatch='2*n_jobs', refit=True, return_train_score=False,\n",
       "             scoring=None, verbose=0)"
      ]
     },
     "execution_count": 234,
     "metadata": {},
     "output_type": "execute_result"
    },
    {
     "name": "stdout",
     "output_type": "stream",
     "text": [
      "time: 34.4 s\n"
     ]
    }
   ],
   "source": [
    "rf = RandomForestClassifier(n_jobs = 30, random_state = 32)\n",
    "\n",
    "# CV hyperparameter tune\n",
    "rf = GridSearchCV(estimator = rf, \n",
    "                  param_grid = {'n_estimators': [100, 250],\n",
    "                                'max_features': [\"auto\"],\n",
    "                                'max_depth': [10, 25, 100],\n",
    "                                'min_samples_split': [2, 5, 10],\n",
    "                                'min_samples_leaf': [1, 2, 4]},\n",
    "                          cv = 5, \n",
    "                          n_jobs = 30)\n",
    "\n",
    "rf.fit(X = train.drop([\"Class\"], axis = 1),\n",
    "       y = train[\"Class\"])"
   ]
  },
  {
   "cell_type": "code",
   "execution_count": 231,
   "metadata": {},
   "outputs": [
    {
     "name": "stdout",
     "output_type": "stream",
     "text": [
      "time: 434 ms\n"
     ]
    }
   ],
   "source": [
    "# get preds\n",
    "preds = rf.predict(valid.drop([\"Class\"], axis = 1))\n",
    "preds_proba = rf.predict_proba(valid.drop([\"Class\"], axis = 1))"
   ]
  },
  {
   "cell_type": "markdown",
   "metadata": {},
   "source": [
    "# Evaluate predictions"
   ]
  },
  {
   "cell_type": "code",
   "execution_count": 232,
   "metadata": {},
   "outputs": [
    {
     "name": "stdout",
     "output_type": "stream",
     "text": [
      "0.5090361445783133\n",
      "1.3271274139822757\n",
      "time: 8.58 ms\n"
     ]
    }
   ],
   "source": [
    "print(metrics.accuracy_score(valid[\"Class\"], preds))\n",
    "print(metrics.log_loss(valid[\"Class\"], preds_proba))"
   ]
  },
  {
   "cell_type": "code",
   "execution_count": 233,
   "metadata": {},
   "outputs": [
    {
     "name": "stdout",
     "output_type": "stream",
     "text": [
      "Confusion matrix, without normalization\n",
      "[[ 40   4   0  17  15   5  34   0   0]\n",
      " [  2  27   0   2   0   3  67   0   0]\n",
      " [  1   0   0   3   2   0  12   0   0]\n",
      " [ 28   1   0  70   5   3  25   0   0]\n",
      " [ 12   2   1   8  13   2  16   0   0]\n",
      " [  7   1   0   0   4  24  15   0   0]\n",
      " [  2  19   0   1   2   0 160   0   0]\n",
      " [  0   0   0   0   0   0   1   0   0]\n",
      " [  0   0   0   2   0   0   2   0   4]]\n"
     ]
    },
    {
     "data": {
      "image/png": "[encoded data removed]",
      "text/plain": [
       "<Figure size 720x864 with 2 Axes>"
      ]
     },
     "metadata": {
      "needs_background": "light"
     },
     "output_type": "display_data"
    },
    {
     "name": "stdout",
     "output_type": "stream",
     "text": [
      "time: 1.08 s\n"
     ]
    }
   ],
   "source": [
    "def plot_confusion_matrix(cm, classes,\n",
    "                          normalize=False,\n",
    "                          title='Confusion matrix',\n",
    "                          cmap=plt.cm.Blues):\n",
    "    \"\"\"\n",
    "    This function prints and plots the confusion matrix.\n",
    "    Normalization can be applied by setting `normalize=True`.\n",
    "    \"\"\"\n",
    "    import itertools\n",
    "    if normalize:\n",
    "        cm = cm.astype('float') / cm.sum(axis=1)[:, np.newaxis]\n",
    "        print(\"Normalized confusion matrix\")\n",
    "    else:\n",
    "        print('Confusion matrix, without normalization')\n",
    "\n",
    "    print(cm)\n",
    "\n",
    "    plt.imshow(cm, interpolation='nearest', cmap=cmap)\n",
    "    plt.title(title)\n",
    "    plt.colorbar()\n",
    "    tick_marks = np.arange(len(classes))\n",
    "    plt.xticks(tick_marks, classes, rotation=45)\n",
    "    plt.yticks(tick_marks, classes)\n",
    "\n",
    "    fmt = '.2f' if normalize else 'd'\n",
    "    thresh = cm.max() / 2.\n",
    "    for i, j in itertools.product(range(cm.shape[0]), range(cm.shape[1])):\n",
    "        plt.text(j, i, format(cm[i, j], fmt),\n",
    "                 horizontalalignment=\"center\",\n",
    "                 color=\"white\" if cm[i, j] > thresh else \"black\")\n",
    "\n",
    "    plt.ylabel('True label')\n",
    "    plt.xlabel('Predicted label')\n",
    "    plt.tight_layout()\n",
    "\n",
    "cfm = metrics.confusion_matrix(valid[\"Class\"], preds, \n",
    "                               labels = [x for x in sorted(valid[\"Class\"].unique())])\n",
    "plt.figure(figsize=(10, 12))\n",
    "plot_confusion_matrix(cfm, classes = [x for x in sorted(valid[\"Class\"].unique())],\n",
    "                      title = 'Confusion matrix')"
   ]
  },
  {
   "cell_type": "code",
   "execution_count": null,
   "metadata": {},
   "outputs": [],
   "source": [
    "#/usr/local/bin/jupyter nbconvert --to html \\\n",
    "#--ExecutePreprocessor.timeout=1000000000 \\ # force timeout to be very long \n",
    "#--execute ~/misc_projects/kaggling/personalised_med/scripts/personalised_med_kaggle.ipynb"
   ]
  }
 ],
 "metadata": {
  "kernelspec": {
   "display_name": "Python 3",
   "language": "python",
   "name": "python3"
  },
  "language_info": {
   "codemirror_mode": {
    "name": "ipython",
    "version": 3
   },
   "file_extension": ".py",
   "mimetype": "text/x-python",
   "name": "python",
   "nbconvert_exporter": "python",
   "pygments_lexer": "ipython3",
   "version": "3.7.5"
  }
 },
 "nbformat": 4,
 "nbformat_minor": 2
}
